{
  "nbformat": 4,
  "nbformat_minor": 0,
  "metadata": {
    "colab": {
      "name": "tEEds_Jackknife-Bootstrap.ipynb",
      "provenance": [],
      "collapsed_sections": [
        "OgIUwL-JF2Wk",
        "zQfVVy05Ia7I"
      ]
    },
    "kernelspec": {
      "name": "python3",
      "display_name": "Python 3"
    },
    "language_info": {
      "name": "python"
    }
  },
  "cells": [
    {
      "cell_type": "markdown",
      "metadata": {
        "id": "3SoFfZhUn5BJ"
      },
      "source": [
        "# Librerias"
      ]
    },
    {
      "cell_type": "code",
      "metadata": {
        "colab": {
          "base_uri": "https://localhost:8080/"
        },
        "id": "TAcDJqH0nfsO",
        "outputId": "ad89801b-82d2-4234-cf2d-074578f826b2"
      },
      "source": [
        "import pandas as pd\n",
        "import numpy as np\n",
        "import matplotlib.pyplot as plt\n",
        "import seaborn as sns\n",
        "import statsmodels.api as sm"
      ],
      "execution_count": null,
      "outputs": [
        {
          "output_type": "stream",
          "text": [
            "/usr/local/lib/python3.7/dist-packages/statsmodels/tools/_testing.py:19: FutureWarning: pandas.util.testing is deprecated. Use the functions in the public API at pandas.testing instead.\n",
            "  import pandas.util.testing as tm\n"
          ],
          "name": "stderr"
        }
      ]
    },
    {
      "cell_type": "markdown",
      "metadata": {
        "id": "FTBFAMXan7Sr"
      },
      "source": [
        "Técnicas de resampleo: Obtener un sample desde otro."
      ]
    },
    {
      "cell_type": "markdown",
      "metadata": {
        "id": "XY0xTLdkn7xV"
      },
      "source": [
        "# Bootstrap\n",
        "\n",
        "Se basa en crear el nuevo sample en base a elegir *con reemplazo* cada nuevo dato con probabilidad uniforme desde el sample original. Calculando asi el estimador deseado de cada sample creado (Bootstrap sample).\n",
        "\n",
        "\n",
        "\n",
        "Sea $x = (x_1, x_2, \\dotsc , x_n )$ un sample aleatorio desde una distribución desconocida $F$. <br>\n",
        "\n",
        "\n",
        "$F \\stackrel{\\mathrm{iid}}{\\longrightarrow} \\boldsymbol{x} \\stackrel{s}{\\longrightarrow} \\hat{\\theta}$\n",
        "\n",
        "> Objetivo: Deseamos conocer el error estándar de un estimador $\\hat{\\theta}$ calculado según $s(x)$. Esto es $\\hat{\\theta} = s(x)$.\n",
        "\n",
        "Para lograr el objetivo, nos gustaría tener nuevas observaciones de $F$, pero $F$ es una distribución **desconocida**. Para esto usamos Bootstrap.\n",
        "\n",
        "> Bootstrap: Generar nuevos *samples* $x^* = (x_1^*, x_2^*, \\dotsc, x_n^*)$ desde el *sample original* $x$. Eligiendo $n$ observaciones nuevas $x_i^*$ uniformemente *con reemplazo* desde  el sample original $x$.\n",
        "\n",
        "\n",
        "\n",
        "\n",
        "\n",
        "\n"
      ]
    },
    {
      "cell_type": "markdown",
      "metadata": {
        "id": "dQqyYO_Zxkob"
      },
      "source": [
        "## Algoritmo Bootstrap\n",
        "\n",
        "REPETIR $B$ Veces {\n",
        "\n",
        "1. Obtener $x^* = (x_1^*, x_2^*, \\dotsc, x_n^*)$ llamado *Bootstrap sample*, donde cada $x_i^*$ es escogido uniformemente con reemplazo desde $x$. \n",
        "\n",
        "$\\hat{F} \\stackrel{\\mathrm{iid}}{\\longrightarrow} \\boldsymbol{x^*} \\stackrel{s}{\\longrightarrow} \\hat{\\theta^*}$\n",
        "\n",
        "2. Calcular estimador de interés para ese bootstrap sample $\\hat{\\theta^*} = s(x^*)$ \n",
        "\n",
        "} END\n",
        "\n",
        "3.  $\\widehat{\\mathrm{se}}_{\\mathrm{boot}}=\\left[\\sum_{b=1}^{B}\\left(\\hat{\\theta}^{* b}-\\hat{\\theta}^{*}\\right)^{2} /(B-1)\\right]^{1 / 2}, \\quad$ $\\hat{\\theta}^{*}=\\sum_{b=1}^{B} \\hat{\\theta}^{* b} / B$\n",
        "\n",
        "En donde $\\widehat{\\mathrm{se}}_{\\mathrm{boot}}$ es el error estándar obtenido según Bootstrap.\n"
      ]
    },
    {
      "cell_type": "code",
      "metadata": {
        "id": "GAOaabsCC0N_"
      },
      "source": [
        "def bootstrap_mean(data, iter = 200):\n",
        "  means, B = [], iter\n",
        "\n",
        "  for i in range(B):\n",
        "    # Paso 1. \n",
        "    sample = np.random.choice(data, \n",
        "                              replace=True, \n",
        "                              size=len(data))\n",
        "    # Paso 2.\n",
        "    sample_mean = sample.mean() #s(sample)\n",
        "    means.append(sample_mean)\n",
        "\n",
        "  # Paso 3.\n",
        "  boot_mean = np.mean(means)\n",
        "  se_boot = np.std(means, ddof = 1)\n",
        "  boot_ci = np.percentile(means, [2.5, 97.5])\n",
        "\n",
        "  return means, boot_mean, se_boot, boot_ci\n",
        "  \n",
        "    \n",
        "\n"
      ],
      "execution_count": null,
      "outputs": []
    },
    {
      "cell_type": "markdown",
      "metadata": {
        "id": "tMRhJf2Oxn-R"
      },
      "source": [
        "## Aplicaciones\n",
        "\n"
      ]
    },
    {
      "cell_type": "markdown",
      "metadata": {
        "id": "pmMIl-5VAk7N"
      },
      "source": [
        "### Fish Dataset\n",
        "En este ejemplo trabajaremos con [Fish Dataset](https://www.kaggle.com/aungpyaeap/fish-market). En donde usaremos la variable 'Lenght1' de una de las especies de pescado 'Roach'."
      ]
    },
    {
      "cell_type": "code",
      "metadata": {
        "colab": {
          "base_uri": "https://localhost:8080/",
          "height": 297
        },
        "id": "OEmAc-E5nyqo",
        "outputId": "85ce1e86-f063-4354-d094-5f0e088555c5"
      },
      "source": [
        "fish_data = pd.read_csv('/content/Fish.csv')\n",
        "fish_data = fish_data.loc[fish_data[\"Species\"] == \"Roach\"][\"Length1\"]\n",
        "pd.DataFrame({'values': fish_data.describe()}).reset_index()"
      ],
      "execution_count": null,
      "outputs": [
        {
          "output_type": "execute_result",
          "data": {
            "text/html": [
              "<div>\n",
              "<style scoped>\n",
              "    .dataframe tbody tr th:only-of-type {\n",
              "        vertical-align: middle;\n",
              "    }\n",
              "\n",
              "    .dataframe tbody tr th {\n",
              "        vertical-align: top;\n",
              "    }\n",
              "\n",
              "    .dataframe thead th {\n",
              "        text-align: right;\n",
              "    }\n",
              "</style>\n",
              "<table border=\"1\" class=\"dataframe\">\n",
              "  <thead>\n",
              "    <tr style=\"text-align: right;\">\n",
              "      <th></th>\n",
              "      <th>index</th>\n",
              "      <th>values</th>\n",
              "    </tr>\n",
              "  </thead>\n",
              "  <tbody>\n",
              "    <tr>\n",
              "      <th>0</th>\n",
              "      <td>count</td>\n",
              "      <td>20.000000</td>\n",
              "    </tr>\n",
              "    <tr>\n",
              "      <th>1</th>\n",
              "      <td>mean</td>\n",
              "      <td>20.645000</td>\n",
              "    </tr>\n",
              "    <tr>\n",
              "      <th>2</th>\n",
              "      <td>std</td>\n",
              "      <td>3.459917</td>\n",
              "    </tr>\n",
              "    <tr>\n",
              "      <th>3</th>\n",
              "      <td>min</td>\n",
              "      <td>12.900000</td>\n",
              "    </tr>\n",
              "    <tr>\n",
              "      <th>4</th>\n",
              "      <td>25%</td>\n",
              "      <td>18.900000</td>\n",
              "    </tr>\n",
              "    <tr>\n",
              "      <th>5</th>\n",
              "      <td>50%</td>\n",
              "      <td>20.500000</td>\n",
              "    </tr>\n",
              "    <tr>\n",
              "      <th>6</th>\n",
              "      <td>75%</td>\n",
              "      <td>22.025000</td>\n",
              "    </tr>\n",
              "    <tr>\n",
              "      <th>7</th>\n",
              "      <td>max</td>\n",
              "      <td>29.500000</td>\n",
              "    </tr>\n",
              "  </tbody>\n",
              "</table>\n",
              "</div>"
            ],
            "text/plain": [
              "   index     values\n",
              "0  count  20.000000\n",
              "1   mean  20.645000\n",
              "2    std   3.459917\n",
              "3    min  12.900000\n",
              "4    25%  18.900000\n",
              "5    50%  20.500000\n",
              "6    75%  22.025000\n",
              "7    max  29.500000"
            ]
          },
          "metadata": {
            "tags": []
          },
          "execution_count": 83
        }
      ]
    },
    {
      "cell_type": "markdown",
      "metadata": {
        "id": "X3ysmiJMBcQ8"
      },
      "source": [
        "Podemos calcular la media y un Intervalo de confianza :\n"
      ]
    },
    {
      "cell_type": "code",
      "metadata": {
        "colab": {
          "base_uri": "https://localhost:8080/"
        },
        "id": "Qp8biPU8A72k",
        "outputId": "179579f2-62e5-40e1-c7e3-16614c869b2b"
      },
      "source": [
        "fish_mean = fish_data.mean()\n",
        "conf_i = np.percentile(fish_data, [2.5, 97.5])\n",
        "print(f'La media estimada de este sample es : {fish_mean}')\n",
        "print(f'Con un intervalo de confianza del 95% : {conf_i}')"
      ],
      "execution_count": null,
      "outputs": [
        {
          "output_type": "stream",
          "text": [
            "La media estimada de este sample es : 20.645000000000003\n",
            "Con un intervalo de confianza del 95% : [14.61   27.3625]\n"
          ],
          "name": "stdout"
        }
      ]
    },
    {
      "cell_type": "code",
      "metadata": {
        "colab": {
          "base_uri": "https://localhost:8080/",
          "height": 355
        },
        "id": "MldxPsFAA9yl",
        "outputId": "72d2e462-2198-486f-8563-a54e06cc741e"
      },
      "source": [
        "ax = sns.distplot(fish_data,bins=10,kde=True,color='skyblue')\n",
        "ax.axvline(conf_i[0])\n",
        "ax.axvline(conf_i[1])\n",
        "ax.text(11,0.12, conf_i[0])\n",
        "ax.text(28,0.12, round(conf_i[1],2))\n",
        "ax.set(xlabel='Distribución de Length1', ylabel='Frecuencia')\n",
        "ax.set_title(\"Antes Bootstrapping\", fontsize=20)\n",
        "plt.show();"
      ],
      "execution_count": null,
      "outputs": [
        {
          "output_type": "stream",
          "text": [
            "/usr/local/lib/python3.7/dist-packages/seaborn/distributions.py:2557: FutureWarning: `distplot` is a deprecated function and will be removed in a future version. Please adapt your code to use either `displot` (a figure-level function with similar flexibility) or `histplot` (an axes-level function for histograms).\n",
            "  warnings.warn(msg, FutureWarning)\n"
          ],
          "name": "stderr"
        },
        {
          "output_type": "display_data",
          "data": {
            "image/png": "[encoded data removed]",
            "text/plain": [
              "<Figure size 432x288 with 1 Axes>"
            ]
          },
          "metadata": {
            "tags": [],
            "needs_background": "light"
          }
        }
      ]
    },
    {
      "cell_type": "markdown",
      "metadata": {
        "id": "WS4IWcK1CqvR"
      },
      "source": [
        "Aplicando Bootstrap"
      ]
    },
    {
      "cell_type": "code",
      "metadata": {
        "id": "uej9aEevCE96"
      },
      "source": [
        "means, boot_mean, se_boot, boot_ci = bootstrap_mean(fish_data, 1000)"
      ],
      "execution_count": null,
      "outputs": []
    },
    {
      "cell_type": "code",
      "metadata": {
        "colab": {
          "base_uri": "https://localhost:8080/"
        },
        "id": "G341rJBsHEcY",
        "outputId": "f1cc537f-4402-4a4e-b79b-dee134cffedc"
      },
      "source": [
        "se_boot"
      ],
      "execution_count": null,
      "outputs": [
        {
          "output_type": "execute_result",
          "data": {
            "text/plain": [
              "0.7703382307563119"
            ]
          },
          "metadata": {
            "tags": []
          },
          "execution_count": 89
        }
      ]
    },
    {
      "cell_type": "code",
      "metadata": {
        "colab": {
          "base_uri": "https://localhost:8080/"
        },
        "id": "XJrrUk6MFV2P",
        "outputId": "8bd1241b-1e85-4cb9-abd6-c0748b975c9e"
      },
      "source": [
        "print(f'La media estimada de este sample es : {boot_mean}')\n",
        "print(f'Con un intervalo de confianza del 95% : {boot_ci}')"
      ],
      "execution_count": null,
      "outputs": [
        {
          "output_type": "stream",
          "text": [
            "La media estimada de este sample es : 20.607215\n",
            "Con un intervalo de confianza del 95% : [19.11475  22.165625]\n"
          ],
          "name": "stdout"
        }
      ]
    },
    {
      "cell_type": "code",
      "metadata": {
        "colab": {
          "base_uri": "https://localhost:8080/",
          "height": 356
        },
        "id": "7Azh-1LpEVg7",
        "outputId": "cc9e16b4-2a2e-4081-a69f-704026e4db4c"
      },
      "source": [
        "ax = sns.distplot(means,bins=10,kde=True,color='skyblue')\n",
        "ax.axvline(boot_ci[0])\n",
        "ax.axvline(boot_ci[1])\n",
        "ax.text(18.2,0.45, round(boot_ci[0], 2))\n",
        "ax.text(22.3,0.45, round(boot_ci[1], 2))\n",
        "ax.set_title(\"Después Bootstrapping\", fontsize=20)\n",
        "ax.set(xlabel='Distribución of Length1 Values', ylabel='Frecuencia')\n",
        "plt.show();"
      ],
      "execution_count": null,
      "outputs": [
        {
          "output_type": "stream",
          "text": [
            "/usr/local/lib/python3.7/dist-packages/seaborn/distributions.py:2557: FutureWarning: `distplot` is a deprecated function and will be removed in a future version. Please adapt your code to use either `displot` (a figure-level function with similar flexibility) or `histplot` (an axes-level function for histograms).\n",
            "  warnings.warn(msg, FutureWarning)\n"
          ],
          "name": "stderr"
        },
        {
          "output_type": "display_data",
          "data": {
            "image/png": "[encoded data removed]",
            "text/plain": [
              "<Figure size 432x288 with 1 Axes>"
            ]
          },
          "metadata": {
            "tags": [],
            "needs_background": "light"
          }
        }
      ]
    },
    {
      "cell_type": "markdown",
      "metadata": {
        "id": "OgIUwL-JF2Wk"
      },
      "source": [
        "### Largo de Llaves"
      ]
    },
    {
      "cell_type": "code",
      "metadata": {
        "id": "z6nkHcQSFeoX"
      },
      "source": [
        "wrench_lengths = np.array([ 8.9143694 , 10.99734545, 10.2829785 ,  8.49370529,  9.42139975,\n",
        "       11.65143654,  7.57332076,  9.57108737, 11.26593626,  9.1332596 ,\n",
        "        9.32111385,  9.90529103, 11.49138963,  9.361098  ,  9.55601804,\n",
        "        9.56564872, 12.20593008, 12.18678609, 11.0040539 , 10.3861864 ,\n",
        "       10.73736858, 11.49073203,  9.06416613, 11.17582904,  8.74611933,\n",
        "        9.3622485 , 10.9071052 ,  8.5713193 ,  9.85993128,  9.1382451 ,\n",
        "        9.74438063,  7.20141089,  8.2284669 ,  9.30012277, 10.92746243,\n",
        "        9.82636432, 10.00284592, 10.68822271,  9.12046366, 10.28362732,\n",
        "        9.19463348,  8.27233051,  9.60910021, 10.57380586, 10.33858905,\n",
        "        9.98816951, 12.39236527, 10.41291216, 10.97873601, 12.23814334,\n",
        "        8.70591468,  8.96121179, 11.74371223,  9.20193726, 10.02968323,\n",
        "       11.06931597, 10.89070639, 11.75488618, 11.49564414, 11.06939267,\n",
        "        9.22729129, 10.79486267, 10.31427199,  8.67373454, 11.41729905,\n",
        "       10.80723653, 10.04549008,  9.76690794,  8.80169886, 10.19952407,\n",
        "       10.46843912,  9.16884502, 11.16220405,  8.90279695,  7.87689965,\n",
        "       11.03972709,  9.59663396,  9.87397041,  9.16248328,  8.39403724,\n",
        "       11.25523737,  9.31113102, 11.66095249, 10.80730819,  9.68524185,\n",
        "        8.9140976 ,  9.26753801,  8.78747687, 12.08711336, 10.16444123,\n",
        "       11.15020554,  8.73264795, 10.18103513, 11.17786194,  9.66498924,\n",
        "       11.03111446,  8.91543209,  8.63652846, 10.37940061,  9.62082357])"
      ],
      "execution_count": null,
      "outputs": []
    },
    {
      "cell_type": "code",
      "metadata": {
        "id": "piD-b_yYGEE6"
      },
      "source": [
        "means, boot_mean, se_boot, boot_ci = bootstrap_mean(wrench_lengths, 1000)"
      ],
      "execution_count": null,
      "outputs": []
    },
    {
      "cell_type": "code",
      "metadata": {
        "colab": {
          "base_uri": "https://localhost:8080/"
        },
        "id": "bR8Y6nEfGMxM",
        "outputId": "7e17c3e4-193c-4504-c8e3-5b59f9410200"
      },
      "source": [
        "print(f'La media estimada de este sample es : {boot_mean}')\n",
        "print(f'Con un intervalo de confianza del 95% : {boot_ci}')"
      ],
      "execution_count": null,
      "outputs": [
        {
          "output_type": "stream",
          "text": [
            "La media estimada de este sample es : 10.0318849756104\n",
            "Con un intervalo de confianza del 95% : [ 9.80798981 10.25961643]\n"
          ],
          "name": "stdout"
        }
      ]
    },
    {
      "cell_type": "code",
      "metadata": {
        "colab": {
          "base_uri": "https://localhost:8080/"
        },
        "id": "z9FEocDPGP9Q",
        "outputId": "184127d4-35e8-4470-ca22-b17d98d382c2"
      },
      "source": [
        "se_boot"
      ],
      "execution_count": null,
      "outputs": [
        {
          "output_type": "execute_result",
          "data": {
            "text/plain": [
              "0.11504953933184002"
            ]
          },
          "metadata": {
            "tags": []
          },
          "execution_count": 95
        }
      ]
    },
    {
      "cell_type": "markdown",
      "metadata": {
        "id": "zQfVVy05Ia7I"
      },
      "source": [
        "### Bootstrap Regression\n",
        "\n",
        "Ahora veamos cómo funciona el bootstrapping con regresión. Bootstrapping ayuda a estimar la incertidumbre de los estimadores no estándar. Considere el estadístico $𝑅^2$ asociado con una regresión. Cuando ejecuta una regresión de mínimos cuadrados simple, obtiene un valor para $𝑅^2$. Pero veamos cómo podemos obtener un IC del 95% para $𝑅^2$."
      ]
    },
    {
      "cell_type": "code",
      "metadata": {
        "id": "AVIKSKaAGjHQ"
      },
      "source": [
        "reg_data = pd.read_csv('https://raw.githubusercontent.com/goodboychan/goodboychan.github.io/main/_notebooks/dataset/regression_test.csv', index_col = 0)"
      ],
      "execution_count": null,
      "outputs": []
    },
    {
      "cell_type": "code",
      "metadata": {
        "colab": {
          "base_uri": "https://localhost:8080/",
          "height": 204
        },
        "id": "UwWeW5MmHUKa",
        "outputId": "460263d3-1492-4a55-ef19-b32fcb16127e"
      },
      "source": [
        "reg_data.head()"
      ],
      "execution_count": null,
      "outputs": [
        {
          "output_type": "execute_result",
          "data": {
            "text/html": [
              "<div>\n",
              "<style scoped>\n",
              "    .dataframe tbody tr th:only-of-type {\n",
              "        vertical-align: middle;\n",
              "    }\n",
              "\n",
              "    .dataframe tbody tr th {\n",
              "        vertical-align: top;\n",
              "    }\n",
              "\n",
              "    .dataframe thead th {\n",
              "        text-align: right;\n",
              "    }\n",
              "</style>\n",
              "<table border=\"1\" class=\"dataframe\">\n",
              "  <thead>\n",
              "    <tr style=\"text-align: right;\">\n",
              "      <th></th>\n",
              "      <th>y</th>\n",
              "      <th>Intercept</th>\n",
              "      <th>X1</th>\n",
              "      <th>X2</th>\n",
              "    </tr>\n",
              "  </thead>\n",
              "  <tbody>\n",
              "    <tr>\n",
              "      <th>0</th>\n",
              "      <td>1.217851</td>\n",
              "      <td>1.0</td>\n",
              "      <td>0.696469</td>\n",
              "      <td>0.286139</td>\n",
              "    </tr>\n",
              "    <tr>\n",
              "      <th>1</th>\n",
              "      <td>1.555250</td>\n",
              "      <td>1.0</td>\n",
              "      <td>0.226851</td>\n",
              "      <td>0.551315</td>\n",
              "    </tr>\n",
              "    <tr>\n",
              "      <th>2</th>\n",
              "      <td>0.888520</td>\n",
              "      <td>1.0</td>\n",
              "      <td>0.719469</td>\n",
              "      <td>0.423106</td>\n",
              "    </tr>\n",
              "    <tr>\n",
              "      <th>3</th>\n",
              "      <td>1.736052</td>\n",
              "      <td>1.0</td>\n",
              "      <td>0.980764</td>\n",
              "      <td>0.684830</td>\n",
              "    </tr>\n",
              "    <tr>\n",
              "      <th>4</th>\n",
              "      <td>1.632073</td>\n",
              "      <td>1.0</td>\n",
              "      <td>0.480932</td>\n",
              "      <td>0.392118</td>\n",
              "    </tr>\n",
              "  </tbody>\n",
              "</table>\n",
              "</div>"
            ],
            "text/plain": [
              "          y  Intercept        X1        X2\n",
              "0  1.217851        1.0  0.696469  0.286139\n",
              "1  1.555250        1.0  0.226851  0.551315\n",
              "2  0.888520        1.0  0.719469  0.423106\n",
              "3  1.736052        1.0  0.980764  0.684830\n",
              "4  1.632073        1.0  0.480932  0.392118"
            ]
          },
          "metadata": {
            "tags": []
          },
          "execution_count": 97
        }
      ]
    },
    {
      "cell_type": "code",
      "metadata": {
        "colab": {
          "base_uri": "https://localhost:8080/",
          "height": 465
        },
        "id": "oqHwnNKpIfW5",
        "outputId": "fdeff45d-4955-4854-83c7-63875e0383f5"
      },
      "source": [
        "np.random.seed(123)\n",
        "reg_fit = sm.OLS(reg_data['y'], reg_data.iloc[:, 1:]).fit()\n",
        "reg_fit.summary()"
      ],
      "execution_count": null,
      "outputs": [
        {
          "output_type": "execute_result",
          "data": {
            "text/html": [
              "<table class=\"simpletable\">\n",
              "<caption>OLS Regression Results</caption>\n",
              "<tr>\n",
              "  <th>Dep. Variable:</th>            <td>y</td>        <th>  R-squared:         </th> <td>   0.359</td>\n",
              "</tr>\n",
              "<tr>\n",
              "  <th>Model:</th>                   <td>OLS</td>       <th>  Adj. R-squared:    </th> <td>   0.357</td>\n",
              "</tr>\n",
              "<tr>\n",
              "  <th>Method:</th>             <td>Least Squares</td>  <th>  F-statistic:       </th> <td>   278.9</td>\n",
              "</tr>\n",
              "<tr>\n",
              "  <th>Date:</th>             <td>Sat, 19 Jun 2021</td> <th>  Prob (F-statistic):</th> <td>6.33e-97</td>\n",
              "</tr>\n",
              "<tr>\n",
              "  <th>Time:</th>                 <td>22:18:22</td>     <th>  Log-Likelihood:    </th> <td> -173.11</td>\n",
              "</tr>\n",
              "<tr>\n",
              "  <th>No. Observations:</th>      <td>  1000</td>      <th>  AIC:               </th> <td>   352.2</td>\n",
              "</tr>\n",
              "<tr>\n",
              "  <th>Df Residuals:</th>          <td>   997</td>      <th>  BIC:               </th> <td>   366.9</td>\n",
              "</tr>\n",
              "<tr>\n",
              "  <th>Df Model:</th>              <td>     2</td>      <th>                     </th>     <td> </td>   \n",
              "</tr>\n",
              "<tr>\n",
              "  <th>Covariance Type:</th>      <td>nonrobust</td>    <th>                     </th>     <td> </td>   \n",
              "</tr>\n",
              "</table>\n",
              "<table class=\"simpletable\">\n",
              "<tr>\n",
              "      <td></td>         <th>coef</th>     <th>std err</th>      <th>t</th>      <th>P>|t|</th>  <th>[0.025</th>    <th>0.975]</th>  \n",
              "</tr>\n",
              "<tr>\n",
              "  <th>Intercept</th> <td>    1.4802</td> <td>    0.024</td> <td>   61.379</td> <td> 0.000</td> <td>    1.433</td> <td>    1.528</td>\n",
              "</tr>\n",
              "<tr>\n",
              "  <th>X1</th>        <td>   -0.5006</td> <td>    0.032</td> <td>  -15.818</td> <td> 0.000</td> <td>   -0.563</td> <td>   -0.438</td>\n",
              "</tr>\n",
              "<tr>\n",
              "  <th>X2</th>        <td>    0.5251</td> <td>    0.031</td> <td>   17.097</td> <td> 0.000</td> <td>    0.465</td> <td>    0.585</td>\n",
              "</tr>\n",
              "</table>\n",
              "<table class=\"simpletable\">\n",
              "<tr>\n",
              "  <th>Omnibus:</th>       <td>858.078</td> <th>  Durbin-Watson:     </th> <td>   2.122</td>\n",
              "</tr>\n",
              "<tr>\n",
              "  <th>Prob(Omnibus):</th> <td> 0.000</td>  <th>  Jarque-Bera (JB):  </th> <td>  61.982</td>\n",
              "</tr>\n",
              "<tr>\n",
              "  <th>Skew:</th>          <td>-0.025</td>  <th>  Prob(JB):          </th> <td>3.47e-14</td>\n",
              "</tr>\n",
              "<tr>\n",
              "  <th>Kurtosis:</th>      <td> 1.781</td>  <th>  Cond. No.          </th> <td>    5.30</td>\n",
              "</tr>\n",
              "</table><br/><br/>Warnings:<br/>[1] Standard Errors assume that the covariance matrix of the errors is correctly specified."
            ],
            "text/plain": [
              "<class 'statsmodels.iolib.summary.Summary'>\n",
              "\"\"\"\n",
              "                            OLS Regression Results                            \n",
              "==============================================================================\n",
              "Dep. Variable:                      y   R-squared:                       0.359\n",
              "Model:                            OLS   Adj. R-squared:                  0.357\n",
              "Method:                 Least Squares   F-statistic:                     278.9\n",
              "Date:                Sat, 19 Jun 2021   Prob (F-statistic):           6.33e-97\n",
              "Time:                        22:18:22   Log-Likelihood:                -173.11\n",
              "No. Observations:                1000   AIC:                             352.2\n",
              "Df Residuals:                     997   BIC:                             366.9\n",
              "Df Model:                           2                                         \n",
              "Covariance Type:            nonrobust                                         \n",
              "==============================================================================\n",
              "                 coef    std err          t      P>|t|      [0.025      0.975]\n",
              "------------------------------------------------------------------------------\n",
              "Intercept      1.4802      0.024     61.379      0.000       1.433       1.528\n",
              "X1            -0.5006      0.032    -15.818      0.000      -0.563      -0.438\n",
              "X2             0.5251      0.031     17.097      0.000       0.465       0.585\n",
              "==============================================================================\n",
              "Omnibus:                      858.078   Durbin-Watson:                   2.122\n",
              "Prob(Omnibus):                  0.000   Jarque-Bera (JB):               61.982\n",
              "Skew:                          -0.025   Prob(JB):                     3.47e-14\n",
              "Kurtosis:                       1.781   Cond. No.                         5.30\n",
              "==============================================================================\n",
              "\n",
              "Warnings:\n",
              "[1] Standard Errors assume that the covariance matrix of the errors is correctly specified.\n",
              "\"\"\""
            ]
          },
          "metadata": {
            "tags": []
          },
          "execution_count": 98
        }
      ]
    },
    {
      "cell_type": "code",
      "metadata": {
        "colab": {
          "base_uri": "https://localhost:8080/"
        },
        "id": "Yh9xs1pyJQ5Y",
        "outputId": "c083a57a-0205-4081-cbf7-3bc3256c4b5e"
      },
      "source": [
        "reg_fit.rsquared"
      ],
      "execution_count": null,
      "outputs": [
        {
          "output_type": "execute_result",
          "data": {
            "text/plain": [
              "0.3587547009414189"
            ]
          },
          "metadata": {
            "tags": []
          },
          "execution_count": 99
        }
      ]
    },
    {
      "cell_type": "code",
      "metadata": {
        "colab": {
          "base_uri": "https://localhost:8080/"
        },
        "id": "GxcK5QgcI04f",
        "outputId": "026cc935-ac92-47eb-c00b-01a0c98cebb5"
      },
      "source": [
        "rsquared_boot, sims = [], 1000\n",
        "\n",
        "# Iteraciones\n",
        "for i in range(sims):\n",
        "    # Paso 1.\n",
        "    bootstrap = reg_data.sample(n=reg_data.shape[0], replace=True)\n",
        "    # Paso 2.\n",
        "    rsquared_boot.append(sm.OLS(bootstrap['y'],bootstrap.iloc[:,1:]).fit().rsquared)\n",
        "\n",
        "# Paso 3.\n",
        "r_sq_95_ci = np.percentile(rsquared_boot, [2.5, 97.5])\n",
        "print(\"R^2 95% CI = {}\".format(r_sq_95_ci))\n",
        "print('error estándar: {}'.format(np.std(rsquared_boot, ddof=1)))"
      ],
      "execution_count": null,
      "outputs": [
        {
          "output_type": "stream",
          "text": [
            "R^2 95% CI = [0.31089312 0.40543591]\n",
            "error estándar: 0.023399901251064472\n"
          ],
          "name": "stdout"
        }
      ]
    },
    {
      "cell_type": "markdown",
      "metadata": {
        "id": "vxn08qIaJsSm"
      },
      "source": [
        "## Bootstrap\n",
        "- Es completamente automático: se puede escribir un único algoritmo maestro que introduce el conjunto de datos x la función $s(x)$, y se obtiene $\\hat{se}_{boot}$\n",
        "\n",
        "- Hemos descrito el bootstrap no paramétrico de una muestra. Existe también un boostrap paramétrico.\n",
        "\n",
        "- Bootstrapping \"sacude\" los datos originales de forma más violenta que jackknife, produciendo desviaciones no locales $x^*$ desde $x$. El bootstrap es más confiable que jackknife para estadísticas imprecisas, ya que no dependen de derivados locales.\n",
        "\n",
        "- $B = 200$ suele ser suficiente para evaluar $\\hat{se}_{boot}$. Valores mayores, 1000 o 2000, será necesario para los intervalos de confianza de bootstrap.\n",
        "\n",
        "\n"
      ]
    },
    {
      "cell_type": "markdown",
      "metadata": {
        "id": "3hRhGhBZJx2Z"
      },
      "source": [
        "# Jackknife\n",
        "\n",
        "Siguiendo lo supuesto anteriormente. \n",
        "\n",
        "Sea $x = (x_1, x_2, \\dotsc , x_n )$ un sample aleatorio desde una distribución desconocida $F$. \n",
        "\n",
        "Ahora se define el nuevo sample $x_{(i)} = (x_1, x_2, \\dotsc, x_{i-1}, x_{i+1}, \\dotsc, x_n )$. Notar que es el sample original $x$ pero sin considerar el elemento $i$.\n",
        "\n",
        "\n"
      ]
    },
    {
      "cell_type": "markdown",
      "metadata": {
        "id": "xGPey3YvTZpO"
      },
      "source": [
        "## Algoritmo\n",
        "\n",
        "\n",
        "REPETIR N Veces {\n",
        "1. Obtener $x_{(i)}$ \n",
        "2. Calcular el estimador de interés para ese subsample $\\hat{\\theta_{i}} = s(x_{(i)})$\n",
        "\n",
        "\n",
        "} END\n",
        "\n",
        "3. Calcular *Estimador Jackknife del error estándar* $\\widehat{\\mathrm{se}}_{\\mathrm{jack}}=\\left[\\frac{n-1}{n} \\sum_{1}^{n}\\left(\\hat{\\theta}_{(i)}-\\hat{\\theta}_{(\\cdot)}\\right)^{2}\\right]^{1 / 2}, \\quad$  $\\hat{\\theta}_{(\\cdot)}=\\sum_{1}^{n} \\hat{\\theta}_{(i)} / n$"
      ]
    },
    {
      "cell_type": "code",
      "metadata": {
        "id": "JIOGhgEaTSL-"
      },
      "source": [
        "def jackknife_mean(data):\n",
        "  means, n = [], len(data)\n",
        "  index = np.arange(n)\n",
        "\n",
        "  for i in range(n):\n",
        "      # Paso 1.\n",
        "      jk_sample = data[index != i]\n",
        "      # Paso 2.\n",
        "      means.append(jk_sample.mean()) #s(x)\n",
        "  means_jk = np.mean(np.array(means))\n",
        "\n",
        "  # Paso 3.\n",
        "  jk_std = (n-1)**0.5*np.std(means)\n",
        "  return means, means_jk, jk_std"
      ],
      "execution_count": null,
      "outputs": []
    },
    {
      "cell_type": "markdown",
      "metadata": {
        "id": "KnWarvJ-WDN8"
      },
      "source": [
        "## Aplicaciones"
      ]
    },
    {
      "cell_type": "markdown",
      "metadata": {
        "id": "F5osy9UNWFDq"
      },
      "source": [
        "### Fish dataset"
      ]
    },
    {
      "cell_type": "code",
      "metadata": {
        "id": "gtl3kUn7SJ_U"
      },
      "source": [
        "means, means_jk, jk_std = jackknife_mean(fish_data)"
      ],
      "execution_count": null,
      "outputs": []
    },
    {
      "cell_type": "code",
      "metadata": {
        "colab": {
          "base_uri": "https://localhost:8080/"
        },
        "id": "nBlU2-3wWINa",
        "outputId": "a5977c9f-1196-4972-a386-e111bac4e075"
      },
      "source": [
        "print(f'Media jackknife: {means_jk}')\n",
        "print(f'error estándar: {jk_std}')"
      ],
      "execution_count": null,
      "outputs": [
        {
          "output_type": "stream",
          "text": [
            "Media jackknife: 20.645\n",
            "error estándar: 0.7736609824654956\n"
          ],
          "name": "stdout"
        }
      ]
    },
    {
      "cell_type": "markdown",
      "metadata": {
        "id": "TYd4YaNqYEZT"
      },
      "source": [
        "### Largo de LLaves\n"
      ]
    },
    {
      "cell_type": "code",
      "metadata": {
        "id": "vtZxnLxtXMna"
      },
      "source": [
        "means, means_jk, jk_std = jackknife_mean(wrench_lengths)"
      ],
      "execution_count": null,
      "outputs": []
    },
    {
      "cell_type": "code",
      "metadata": {
        "colab": {
          "base_uri": "https://localhost:8080/"
        },
        "id": "M4yG9kSZXeCL",
        "outputId": "6086e430-109b-4c50-fa65-b764248a5626"
      },
      "source": [
        "print(f'Media jackknife: {means_jk}')\n",
        "print(f'error estándar: {jk_std}')"
      ],
      "execution_count": null,
      "outputs": [
        {
          "output_type": "stream",
          "text": [
            "Media jackknife: 10.027109074099998\n",
            "error estándar: 0.11339243375044471\n"
          ],
          "name": "stdout"
        }
      ]
    },
    {
      "cell_type": "markdown",
      "metadata": {
        "id": "m2KE3GdvYf14"
      },
      "source": [
        "Veamos como estimar un intervalo de confianza para la mediana"
      ]
    },
    {
      "cell_type": "code",
      "metadata": {
        "colab": {
          "base_uri": "https://localhost:8080/"
        },
        "id": "s9MmYoeFYQve",
        "outputId": "6f294be0-d3f7-4080-81c5-f8a6968cd3b8"
      },
      "source": [
        "np.random.seed(123)\n",
        "\n",
        "median_lengths = []\n",
        "n = len(wrench_lengths)\n",
        "index = np.arange(n)\n",
        "\n",
        "for i in range(n):\n",
        "    # Paso 1.\n",
        "    jk_sample = wrench_lengths[index != i]\n",
        "    # Paso 2.\n",
        "    median_lengths.append(np.median(jk_sample)) #s(x)\n",
        "median_lengths = np.array(median_lengths)\n",
        "\n",
        "\n",
        "# Paso 3.\n",
        "jk_median_length = np.mean(median_lengths)\n",
        "jk_var = (n-1)*np.var(median_lengths)\n",
        "\n",
        "# Si asumimos normalidad podemos calcular los intervalos de confianza.\n",
        "jk_lower_ci = jk_median_length - 1.96 * np.sqrt(jk_var)\n",
        "jk_upper_ci = jk_median_length + 1.96 * np.sqrt(jk_var)\n",
        "print('Jackknife median: {}'.format(jk_median_length))\n",
        "print(\"Jackknife 95% CI lower = {}, upper = {}\".format(jk_lower_ci, jk_upper_ci))"
      ],
      "execution_count": null,
      "outputs": [
        {
          "output_type": "stream",
          "text": [
            "Jackknife median: 9.946730270000003\n",
            "Jackknife 95% CI lower = 9.138592415216381, upper = 10.754868124783625\n"
          ],
          "name": "stdout"
        }
      ]
    },
    {
      "cell_type": "markdown",
      "metadata": {
        "id": "R1hoyD_4aJMn"
      },
      "source": [
        "## Jackknife\n",
        "\n",
        "- No es paramétrico; ninguna forma especial de la distribución subyacente F\n",
        "necesita ser asumido\n",
        "- Es completamente automático: se puede escribir un único algoritmo maestro que introduce el conjunto de datos x la función $s(x)$, y se obtiene $\\hat{se}_{jack}$\n",
        "- El algoritmo funciona con conjuntos de datos de tamaño $n-1$, no $n$. Hay un escondido supuesto de un comportamiento uniforme en todos los tamaños de muestra. Esto puede ser preocupante para estadísticas como la mediana de la muestra que tienen una definición diferente para pares e impares\n",
        "- El error estándar de jackknife está sesgado hacia arriba como una estimación de la verdadera error estándar\n"
      ]
    },
    {
      "cell_type": "markdown",
      "metadata": {
        "id": "G8mD1fP8Z9M5"
      },
      "source": [
        "# Referencias\n",
        "- https://web.stanford.edu/~hastie/CASI_files/PDF/casi.pdf\n",
        "- https://github.com/Idilismiguzel/data_analysis\n",
        "- https://towardsdatascience.com/resampling-methods-for-inference-analysis-e75fecfefcb2\n",
        "- https://s3.amazonaws.com/assets.datacamp.com/production/course_6947/slides/chapter3.pdf\n",
        "- https://si.biostat.washington.edu/sites/default/files/modules/2017_sisg_1_9_v3.pdf"
      ]
    },
    {
      "cell_type": "code",
      "metadata": {
        "id": "pFJShIclZRyA"
      },
      "source": [
        ""
      ],
      "execution_count": null,
      "outputs": []
    }
  ]
}