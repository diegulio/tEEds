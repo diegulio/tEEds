{
  "nbformat": 4,
  "nbformat_minor": 0,
  "metadata": {
    "colab": {
      "name": "tEEds_freqvsbayes.ipynb",
      "provenance": [],
      "collapsed_sections": []
    },
    "kernelspec": {
      "name": "python3",
      "display_name": "Python 3"
    },
    "language_info": {
      "name": "python"
    }
  },
  "cells": [
    {
      "cell_type": "code",
      "metadata": {
        "id": "WRVGMnf6Omqt"
      },
      "source": [
        "%matplotlib inline\n",
        "import numpy as np\n",
        "from scipy import stats\n",
        "import matplotlib.pyplot as plt"
      ],
      "execution_count": null,
      "outputs": []
    },
    {
      "cell_type": "markdown",
      "metadata": {
        "id": "bKv18XhLLdz1"
      },
      "source": [
        "# Ejemplo : Conteo de Fotones\n",
        "Se quiere saber el flujo de una estrella contando los fotones, pero antes se hacen las siguientes suposiciones: <br>\n",
        "- Flujo constante en el tiempo\n",
        "- Se ignora el ruido presente en las mediciones.\n",
        "- Hicimos $N$ medidas con nuestro telescopio, obteniendo observaciones $F_i$ de el flujo de fotones con un error $e_i$\n",
        "- Asumimos que los errores $e_i$ se distribuyen normalmente.\n",
        "\n",
        "Dado que tenemos entonces los datos $D = (F_i, e_i)$, queremos estimar el valor de $F_{true}$"
      ]
    },
    {
      "cell_type": "markdown",
      "metadata": {
        "id": "3bWYFKXXNnmw"
      },
      "source": [
        "##  🔭 Observaciones \n",
        "Debido a que lo que queremos es contar, una buena distribución para hacer la simulación es Poisson.\n",
        "\n",
        "ver: [Scipy - Poisson](https://docs.scipy.org/doc/scipy/reference/generated/scipy.stats.poisson.html)"
      ]
    },
    {
      "cell_type": "code",
      "metadata": {
        "id": "nX7v7JZdKW7s"
      },
      "source": [
        "# Generamos datos de conteo de fotones\n",
        "np.random.seed(1)  # Reprodubilicidad\n",
        "\n",
        "F_true = 1000  # Flujo verdadero (n fotones/tiempo)\n",
        "N = 50 # Cantidad de observaciones\n",
        "F = stats.poisson.rvs(mu = F_true, size = N)  # Observaciones\n",
        "e = np.sqrt(F)  # Errores (Poisson)"
      ],
      "execution_count": null,
      "outputs": []
    },
    {
      "cell_type": "code",
      "metadata": {
        "colab": {
          "base_uri": "https://localhost:8080/"
        },
        "id": "cyfNPGVaOkR1",
        "outputId": "e2aa54fe-6295-45f3-ebc4-82ccc39d6fd6"
      },
      "source": [
        "F,e "
      ],
      "execution_count": null,
      "outputs": [
        {
          "output_type": "execute_result",
          "data": {
            "text/plain": [
              "(array([ 992,  962,  968,  991,  993,  970,  992,  961,  983, 1042,  947,\n",
              "         966,  951, 1079, 1018, 1017,  979,  953, 1050,  980,  971,  999,\n",
              "        1007, 1008,  953, 1018,  928, 1015, 1067, 1049,  961,  991, 1058,\n",
              "        1024, 1044, 1024,  978,  993, 1015,  956,  995,  992, 1049,  984,\n",
              "        1044, 1050,  966, 1060,  939, 1020]),\n",
              " array([31.4960315 , 31.01612484, 31.11269837, 31.48015248, 31.51190251,\n",
              "        31.144823  , 31.4960315 , 31.        , 31.35283081, 32.28002478,\n",
              "        30.77336511, 31.08054054, 30.83828789, 32.84813541, 31.90611227,\n",
              "        31.89043744, 31.28897569, 30.87069808, 32.40370349, 31.30495168,\n",
              "        31.1608729 , 31.60696126, 31.73326331, 31.74901573, 30.87069808,\n",
              "        31.90611227, 30.46309242, 31.85906464, 32.66496594, 32.38826948,\n",
              "        31.        , 31.48015248, 32.52691193, 32.        , 32.31098884,\n",
              "        32.        , 31.27299154, 31.51190251, 31.85906464, 30.91924967,\n",
              "        31.54362059, 31.4960315 , 32.38826948, 31.36877428, 32.31098884,\n",
              "        32.40370349, 31.08054054, 32.55764119, 30.64310689, 31.93743885]))"
            ]
          },
          "metadata": {
            "tags": []
          },
          "execution_count": 9
        }
      ]
    },
    {
      "cell_type": "markdown",
      "metadata": {
        "id": "gs0MEHqeP3ns"
      },
      "source": [
        "Visualizamos las observaciones"
      ]
    },
    {
      "cell_type": "code",
      "metadata": {
        "colab": {
          "base_uri": "https://localhost:8080/",
          "height": 388
        },
        "id": "N9NdS6m3OoOj",
        "outputId": "b054d428-f9cb-4661-bb51-e228ff0df355"
      },
      "source": [
        "fig, ax = plt.subplots(figsize = (6,6))\n",
        "ax.errorbar(F, np.arange(N), xerr=e, fmt='ok', ecolor='gray', alpha=0.5)\n",
        "ax.vlines([F_true], 0, N, linewidth=5, alpha=0.2)\n",
        "ax.set_xlabel(\"Flujo\");ax.set_ylabel(\"Número de Observación\");"
      ],
      "execution_count": null,
      "outputs": [
        {
          "output_type": "display_data",
          "data": {
            "image/png": "[encoded data removed]",
            "text/plain": [
              "<Figure size 432x432 with 1 Axes>"
            ]
          },
          "metadata": {
            "tags": [],
            "needs_background": "light"
          }
        }
      ]
    },
    {
      "cell_type": "markdown",
      "metadata": {
        "id": "eISqrMa0VJEh"
      },
      "source": [
        "**Propondremos un modelo Gaussiano para $F_{\\rm true}$**"
      ]
    },
    {
      "cell_type": "markdown",
      "metadata": {
        "id": "vXjNyn6KSU2I"
      },
      "source": [
        "**Dadas las observaciones,  Cual es el mejor valor estimado para el flujo $F_{true}$**"
      ]
    },
    {
      "cell_type": "markdown",
      "metadata": {
        "id": "4_6Rgk3ESi6E"
      },
      "source": [
        "## Enfoque Frecuentista\n",
        "Un enfoque clásico frecuentista es obtener el estimador de máxima verosimilitud, o sea, dada una observación $D_i$, podemos calcular la probabilidad de hacer esa observación dado que existe un valor de flujo constante $F_{true}$, dado el supuesto de errores que se distribuyen iid normal tenemos.\n",
        "\n",
        "\\begin{equation}\n",
        "  P(D_i~|~F_{\\rm true}) = \\frac{1}{\\sqrt{2\\pi e_i^2}} \\exp{\\left[\\frac{-(F_i - F_{\\rm true})^2}{2 e_i^2}\\right]}\n",
        "\\end{equation}\n",
        "\n",
        "Que es una distribución normal de media $F_{true}$ y desviación estándar $e_i$. Luego se quuere calcular la probabilidad de los sucesos independientes:\n",
        "\n",
        "\\begin{equation}\n",
        "\\mathcal{L}(D~|~F_{\\rm true}) = \\prod_{i=1}^N P(D_i~|~F_{\\rm true})\n",
        "\\end{equation}\n",
        "\n",
        "Y para facilidad de la optimización, se utiliza las propiedades del logaritmo para tener una formulación equivalente: Log-Likelihood\n",
        "\n",
        "\\begin{equation}\n",
        "\\log\\mathcal{L} = -\\frac{1}{2} \\sum_{i=1}^N \\left[ \\log(2\\pi  e_i^2) + \\frac{(F_i - F_{\\rm true})^2}{e_i^2} \\right]\n",
        "\\end{equation}\n",
        "\n",
        "Al maximizar la expesión de arriba se tiene\n",
        "\\begin{equation}\n",
        "F_{\\rm est} = \\frac{\\sum w_i F_i}{\\sum w_i};~~w_i = 1/e_i^2\n",
        "\\end{equation}\n",
        "\n",
        "Y si todos los errores fuesen iguales \n",
        "\n",
        "\\begin{equation}\n",
        "F_{\\rm est} = \\frac{1}{N}\\sum_{i=1}^N F_i\n",
        "\\end{equation}\n",
        "\n",
        "Lo que es simplemente la media de las observaciones, esto coincide con el enfoque frecuentista, para los cuales las probabilidades están fundamentalmente relacionadas con la frecuencia de los eventos."
      ]
    },
    {
      "cell_type": "code",
      "metadata": {
        "colab": {
          "base_uri": "https://localhost:8080/"
        },
        "id": "uqj0Wsi9P9_3",
        "outputId": "0eb33e71-13a7-4cf2-c3b9-e76f2777c5db"
      },
      "source": [
        "w = 1. / e ** 2\n",
        "print(\"\"\"\n",
        "      F_true = {0}\n",
        "      F_est  = {1:.0f} +/- {2:.0f} (basado en {3} observaciones)\n",
        "      \"\"\".format(F_true, (w * F).sum() / w.sum(), w.sum() ** -0.5, N))"
      ],
      "execution_count": null,
      "outputs": [
        {
          "output_type": "stream",
          "text": [
            "\n",
            "      F_true = 1000\n",
            "      F_est  = 998 +/- 4 (basado en 50 observaciones)\n",
            "      \n"
          ],
          "name": "stdout"
        }
      ]
    },
    {
      "cell_type": "code",
      "metadata": {
        "id": "uPjtbmPokXZr"
      },
      "source": [
        ""
      ],
      "execution_count": null,
      "outputs": []
    },
    {
      "cell_type": "markdown",
      "metadata": {
        "id": "L6-_UCNCmJk7"
      },
      "source": [
        "## Enfoque Bayesiano\n",
        "Se busca computar $P(F_{true}|D)$, o sea, una vez se observan los datos, lo que ajustamos son los modelos posibles. Es importante además destacar que en este enfoque se piensa en $F$ como una variable aleatoria con distribución $P(F)$ -> Prior. <br>\n",
        "\n",
        "Para esto, se utiliza la ley de Bayes resultando:\n",
        "\\begin{equation}\n",
        "P(F_{\\rm true}~|~D) = \\frac{P(D~|~F_{\\rm true})~P(F_{\\rm true})}{P(D)}\n",
        "\\end{equation}\n",
        "\n",
        "De acá podemos observar\n",
        "- $P(F_{\\rm true}| D)$ Distribución **posterior**, o distribución de los parámetros del modelo dado los datos.\n",
        "- $P(D| F_{\\rm true})$: **Likelihood**, distribución proporcional a $\\mathcal{L}(D~|~F_{\\rm true})$\n",
        "- $P(F{\\rm true})$: **Prior** , Es nuestro conocimiento sobre el comportamiendo del modelo sobre los datos\n",
        "- $P(D)$: **Data Probability**, Constante de renormalización.\n",
        "\n",
        "Se puede observar que en algunos casos simples en que esojamos una distribución a priori plana: $P(F_{\\rm true}) \\propto 1$ se tiene que el enfoque bayesiano es equivalente al frequentista (se maximizan en el mismo punto).\n",
        "\\begin{equation}\n",
        "P(F_{\\rm true}|D) \\propto \\mathcal{L}(D|F_{\\rm true})\n",
        "\\end{equation}\n",
        "\n",
        "\n",
        "\n",
        "\n"
      ]
    },
    {
      "cell_type": "code",
      "metadata": {
        "id": "afvET4OqmKfJ"
      },
      "source": [
        "# theta = parámetro a estimar (es mejor pensarlo como un vector para generalizar)\n",
        "def log_prior(theta):\n",
        "    return 1  # prior plana\n",
        "\n",
        "def log_likelihood(theta, F, e):\n",
        "    return -0.5 * np.sum(np.log(2 * np.pi * e ** 2)\n",
        "                         + (F - theta[0]) ** 2 / e ** 2)\n",
        "\n",
        "def log_posterior(theta, F, e): # Omitimos la constante de normalización\n",
        "    return log_prior(theta) + log_likelihood(theta, F, e)"
      ],
      "execution_count": null,
      "outputs": []
    },
    {
      "cell_type": "markdown",
      "metadata": {
        "id": "vg_2ZLBHLFqK"
      },
      "source": [
        "Al aumentar el número de parámetros del modelo, la distribución a posterior se vuelve muy dificil de computar, para sobrellevar esto se hace uso de los métodos de sampleo como Marcov Chain Monte Carlo (Vimos esto la ayudantía pasada). <br>\n",
        "\n",
        "\n",
        "\n",
        "> 🕰 Breve Recuerdo : Los métodos de sampleo MCMC buscan estimar una distribución de probabilidad sampleando puntos con este comportamiento utilizando las cadenas de marcov. [MCMC](https://en.wikipedia.org/wiki/Markov_chain_Monte_Carlo)\n",
        "\n",
        "Si bien nuestro caso es simple, se aplicará de todas formas una MCMC para ejemplificar un caso con mayores parámetros. \n",
        "\n",
        "**Desafío** Computar la distribución posterior directamente.\n",
        "\n",
        "\n"
      ]
    },
    {
      "cell_type": "markdown",
      "metadata": {
        "id": "q9sYhva_ORsV"
      },
      "source": [
        "> 👀 Se utilizará la libreria [EMCEE](https://emcee.readthedocs.io/en/stable/) para la aplicación de las MCMC."
      ]
    },
    {
      "cell_type": "code",
      "metadata": {
        "colab": {
          "base_uri": "https://localhost:8080/"
        },
        "id": "tJpYvMGvO7Dt",
        "outputId": "aaf35e1d-7a75-4de6-a2ae-37b3dec8e246"
      },
      "source": [
        "!pip install emcee"
      ],
      "execution_count": null,
      "outputs": [
        {
          "output_type": "stream",
          "text": [
            "Collecting emcee\n",
            "\u001b[?25l  Downloading https://files.pythonhosted.org/packages/97/f4/00151f5f843088337c6a53edd6cbb2df340f1044d23080c662f95219cc3f/emcee-3.0.2-py2.py3-none-any.whl (41kB)\n",
            "\r\u001b[K     |███████▉                        | 10kB 11.7MB/s eta 0:00:01\r\u001b[K     |███████████████▋                | 20kB 9.9MB/s eta 0:00:01\r\u001b[K     |███████████████████████▌        | 30kB 5.8MB/s eta 0:00:01\r\u001b[K     |███████████████████████████████▎| 40kB 5.4MB/s eta 0:00:01\r\u001b[K     |████████████████████████████████| 51kB 2.1MB/s \n",
            "\u001b[?25hRequirement already satisfied: numpy in /usr/local/lib/python3.7/dist-packages (from emcee) (1.19.5)\n",
            "Installing collected packages: emcee\n",
            "Successfully installed emcee-3.0.2\n"
          ],
          "name": "stdout"
        }
      ]
    },
    {
      "cell_type": "code",
      "metadata": {
        "id": "yO94jxDxKWX6"
      },
      "source": [
        "ndim = 1  # parametros del modelo (en nuestro caso sólo es F true)\n",
        "nwalkers = 50  # número de walkers del MCMC\n",
        "nburn = 1000  # Burn-in (Los primeros sampleos son quemados ya que no siguen adecuadamente la distribución de probabilidad)\n",
        "nsteps = 2000  # número de pasos de la MCMC\n",
        "\n",
        "# Punto inicial\n",
        "starting_guesses = 2000 * np.random.rand(nwalkers, ndim)\n",
        "\n",
        "import emcee\n",
        "# construcción de los samples \n",
        "sampler = emcee.EnsembleSampler(nwalkers, ndim, log_posterior, args=[F, e])\n",
        "sampler.run_mcmc(starting_guesses, nsteps)\n",
        "\n",
        "sample = sampler.chain  # shape = (nwalkers, nsteps, ndim)\n",
        "sample = sampler.chain[:, nburn:, :].ravel()  # se queman los puntos burn-in\n"
      ],
      "execution_count": null,
      "outputs": []
    },
    {
      "cell_type": "code",
      "metadata": {
        "colab": {
          "base_uri": "https://localhost:8080/"
        },
        "id": "2Gk0DYnDPF81",
        "outputId": "63b93b35-c24e-450e-f76a-892d42fe0b27"
      },
      "source": [
        "# 50000 puntos sampleados desde la distribución posterior\n",
        "len(sample)"
      ],
      "execution_count": null,
      "outputs": [
        {
          "output_type": "execute_result",
          "data": {
            "text/plain": [
              "50000"
            ]
          },
          "metadata": {
            "tags": []
          },
          "execution_count": 16
        }
      ]
    },
    {
      "cell_type": "code",
      "metadata": {
        "colab": {
          "base_uri": "https://localhost:8080/",
          "height": 296
        },
        "id": "DKsY5cmmNr9A",
        "outputId": "7366471c-b5e3-4c73-b9cd-6c3ebd2a5bae"
      },
      "source": [
        "# Gráficamos el histograma\n",
        "plt.hist(sample, bins=50, histtype=\"stepfilled\", alpha=0.3, density = True)\n",
        "\n",
        "# graficamos una gaussiana\n",
        "F_fit = np.linspace(975, 1025)\n",
        "pdf = stats.norm(np.mean(sample), np.std(sample)).pdf(F_fit)\n",
        "\n",
        "plt.plot(F_fit, pdf, '-k')\n",
        "plt.xlabel(\"F\"); plt.ylabel(\"P(F)\")\n",
        "\n"
      ],
      "execution_count": null,
      "outputs": [
        {
          "output_type": "execute_result",
          "data": {
            "text/plain": [
              "Text(0, 0.5, 'P(F)')"
            ]
          },
          "metadata": {
            "tags": []
          },
          "execution_count": 22
        },
        {
          "output_type": "display_data",
          "data": {
            "image/png": "[encoded data removed]",
            "text/plain": [
              "<Figure size 432x288 with 1 Axes>"
            ]
          },
          "metadata": {
            "tags": [],
            "needs_background": "light"
          }
        }
      ]
    },
    {
      "cell_type": "code",
      "metadata": {
        "colab": {
          "base_uri": "https://localhost:8080/"
        },
        "id": "niEOh-L6TkkD",
        "outputId": "6ab495f8-6a9e-4066-83b8-b012d2f4de05"
      },
      "source": [
        "print(\"\"\"\n",
        "      F_true = {0}\n",
        "      F_est  = {1:.0f} +/- {2:.0f} (based on {3} measurements)\n",
        "      \"\"\".format(F_true, np.mean(sample), np.std(sample), N))"
      ],
      "execution_count": null,
      "outputs": [
        {
          "output_type": "stream",
          "text": [
            "\n",
            "      F_true = 1000\n",
            "      F_est  = 998 +/- 4 (based on 50 measurements)\n",
            "      \n"
          ],
          "name": "stdout"
        }
      ]
    },
    {
      "cell_type": "markdown",
      "metadata": {
        "id": "9lBHv56STGux"
      },
      "source": [
        "Como nota al margen, es posible que también haya notado un pequeño juego de manos: ¡al final, usamos un enfoque frecuentista para caracterizar nuestras muestras posteriores! Cuando calculamos la media muestral y la desviación estándar anteriores, estábamos empleando una técnica claramente frecuentista para caracterizar la distribución posterior. El resultado bayesiano puro para un problema como este sería informar la distribución posterior en sí (es decir, su muestra representativa) y dejarlo así. Es decir, en el bayesianismo puro la respuesta a una pregunta no es un solo número con barras de error; la respuesta es la distribución posterior sobre los parámetros del modelo."
      ]
    },
    {
      "cell_type": "markdown",
      "metadata": {
        "id": "_AohZueNUYVo"
      },
      "source": [
        "## Resumen : \n",
        "- El frecuentismo considera que las probabilidades están relacionadas con las frecuencias de eventos reales o hipotéticos.\n",
        "- El bayesianismo considera probabilidades para medir grados de conocimiento.\n",
        "- Los análisis frecuentistas generalmente proceden mediante el uso de estimaciones puntuales y enfoques de máxima verosimilitud.\n",
        "- Los análisis bayesianos generalmente calculan el posterior ya sea directamente o mediante alguna versión del muestreo MCMC."
      ]
    },
    {
      "cell_type": "code",
      "metadata": {
        "id": "bdqrjHerSDgl"
      },
      "source": [
        ""
      ],
      "execution_count": null,
      "outputs": []
    },
    {
      "cell_type": "markdown",
      "metadata": {
        "id": "DjHOv_gOlclq"
      },
      "source": [
        "#Cuando los enfoques difieren: Juego de Billar\n",
        "\n",
        "Uno de los factores que hace que difieran los enfoques, es la presencia de parámetros \"molestos\". \n",
        "<br>\n",
        "Los parámetros molestos son aquellos que no nos interesa estudiar, pero aún así son vitales para poder estimar algun parámetro de interés.\n",
        "\n"
      ]
    },
    {
      "cell_type": "markdown",
      "metadata": {
        "id": "1qPqR1c2n5yr"
      },
      "source": [
        "## Juego del Billar \n",
        "Alice y Bob entran en una habitación. Detrás de una cortina hay una mesa de billar, que no pueden ver, pero su amiga Carol sí. Carol hace rodar una pelota por la mesa y marca dónde cae. Una vez que esta marca está en su lugar, Carol comienza a hacer rodar nuevas bolas por la mesa. Si la bola cae a la izquierda de la marca, Alice obtiene un punto; si aterriza a la derecha de la marca, Bob obtiene un punto. Podemos suponer, por ejemplo, que los lanzamientos de Carol son imparciales: es decir, las bolas tienen la misma probabilidad de terminar en cualquier lugar de la mesa. La primera persona en llegar a seis puntos gana el juego. <br>\n",
        "Aquí la ubicación de la marca (determinada por la primera tirada) puede considerarse un **parámetro molesto** ($\\hat{p}$): se desconoce y no es de interés inmediato, pero claramente debe tenerse en cuenta al predecir el resultado de las tiradas posteriores. Si la primera tirada se coloca muy a la derecha, las tiradas posteriores favorecerán a Alice. Si se asienta muy a la izquierda, Bob será el favorito en su lugar."
      ]
    },
    {
      "cell_type": "markdown",
      "metadata": {
        "id": "JXnUxgcQpe4_"
      },
      "source": [
        "Pregunta: \n",
        "> En un juego en particular, después de ocho tiradas, Alice tiene cinco puntos y Bob tiene tres puntos. ¿Cuál es la probabilidad de que Bob gane el juego?"
      ]
    },
    {
      "cell_type": "code",
      "metadata": {
        "id": "ygS6sxhylmiL"
      },
      "source": [
        ""
      ],
      "execution_count": null,
      "outputs": []
    },
    {
      "cell_type": "markdown",
      "metadata": {
        "id": "zEQ7H0RDppLg"
      },
      "source": [
        "## Un enfoque Frecuentista\n",
        "\n",
        "Se puede estimar el parametro molesto $\\hat{p}$, según MLE de la distribución binomial para estimar $p$ como :\n",
        "\\begin{equation}\n",
        "\\hat{p} = 5/8\n",
        "\\end{equation}\n",
        "\n",
        "[MLE Binomial Distribution](https://en.wikipedia.org/wiki/Binomial_distribution#Estimation_of_parameters). <br>\n",
        "\n",
        "Luego, se puede computar la probabilidad de que bob gane el juego como:\n",
        "\\begin{equation}\n",
        "P(B) = (1 - \\hat{p})^3\n",
        "\\end{equation}\n"
      ]
    },
    {
      "cell_type": "code",
      "metadata": {
        "colab": {
          "base_uri": "https://localhost:8080/"
        },
        "id": "uWNS5shdqC_r",
        "outputId": "8d27a474-3a54-4c35-b14c-42e9b1d3e7fb"
      },
      "source": [
        "p_hat = 5. / 8.\n",
        "freq_prob = (1 - p_hat) ** 3\n",
        "print(\"Naïve Frequentist Probability of Bob Winning: {0:.2f}\".format(freq_prob))"
      ],
      "execution_count": null,
      "outputs": [
        {
          "output_type": "stream",
          "text": [
            "Naïve Frequentist Probability of Bob Winning: 0.05\n"
          ],
          "name": "stdout"
        }
      ]
    },
    {
      "cell_type": "markdown",
      "metadata": {
        "id": "YyGWsmiewAVp"
      },
      "source": [
        "## Enfoque Bayesiano\n",
        "- B : Gana Bob\n",
        "- D : Data observada $D = (5,3)$\n",
        "- $p$ : probabilidad de que la bola caiga en el lado de alicia durante el juego.\n",
        "<br>\n",
        "En resumen, el enfoque bayesiano lidia con los parámetros molestos marginalizandolos, o sea, sumando su probabilidad conjunta sobre todo su dominio:\n",
        "<br>\n",
        "\\begin{equation}\n",
        "P(B~|~D) \\equiv \\int_{-\\infty}^\\infty P(B,p~|~D) {\\mathrm d}p\n",
        "\\end{equation}\n",
        "\n",
        "Aplicando la ley de bayes y la definición de probabilidad condicional queda :\n",
        "\\begin{equation}\n",
        "P(B~|~D) = \\frac{\\int P(B~|~p,D) P(D~|~p) P(p) dp}{\\int P(D~|~p)P(p) dp}\n",
        "\\end{equation}\n",
        "\n",
        "En donde \n",
        "- $P(B~|~p,D) = (1 - p) ^ 3$  -> Likelihood\n",
        "- $P(D~|~p) \\propto p^5 (1-p)^3$ -> Binomial\n",
        "- $P(p) \\propto 1$ -> Prior Plana\n",
        "\n",
        "Resultando\n",
        "\n",
        "\\begin{equation}\n",
        "P(B~|~D) = \\frac{\\int_0^1 (1 - p)^6 p^5 dp}{\\int_0^1 (1 - p)^3 p^5 dp}\n",
        "\\end{equation}\n",
        "Lo cual es un caso especial de la Función Beta:\n",
        "\\begin{equation}\n",
        "\\beta(n, m) = \\int_0^1 (1 - p)^{n - 1} p^{m - 1}\n",
        "\\end{equation}"
      ]
    },
    {
      "cell_type": "code",
      "metadata": {
        "colab": {
          "base_uri": "https://localhost:8080/"
        },
        "id": "eJWsEb8Hr0DB",
        "outputId": "13037803-e389-4ea4-a136-a673ac510f23"
      },
      "source": [
        "from scipy.special import beta\n",
        "bayes_prob = beta(6 + 1, 5 + 1) / beta(3 + 1, 5 + 1)\n",
        "\n",
        "print(\"P(B|D) = {0:.2f}\".format(bayes_prob))"
      ],
      "execution_count": null,
      "outputs": [
        {
          "output_type": "stream",
          "text": [
            "P(B|D) = 0.09\n"
          ],
          "name": "stdout"
        }
      ]
    },
    {
      "cell_type": "markdown",
      "metadata": {
        "id": "c1fy5i-QMhgV"
      },
      "source": [
        "## Que enfoque es el correcto? : Simulación de Monte Carlo\n",
        "Para poder descubrir esto, simplemente nos queda simular. Debido a que muchas de las distribuciones involucradas son uniformes, es sencillo poder simular la situación dada. <br>\n",
        "En resumen, lo que se hace es simular muchos juegos que cumplan las condiciones dadas $D = (5,3)$, y ver en cuantos de ellos Bob gana.\n"
      ]
    },
    {
      "cell_type": "code",
      "metadata": {
        "colab": {
          "base_uri": "https://localhost:8080/"
        },
        "id": "PJXzFxD1Mat1",
        "outputId": "45d517c2-d234-46d5-f4d0-486fac51bef0"
      },
      "source": [
        "import numpy as np\n",
        "np.random.seed(0)\n",
        "\n",
        "# play 100000 games with randomly-drawn p, between 0 and 1\n",
        "p = np.random.random(100000)\n",
        "\n",
        "# each game needs at most 11 rolls for one player to reach 6 wins\n",
        "rolls = np.random.random((11, len(p)))\n",
        "\n",
        "# count the cumulative wins for Alice and Bob at each roll\n",
        "Alice_count = np.cumsum(rolls < p, 0)\n",
        "Bob_count = np.cumsum(rolls >= p, 0)\n",
        "\n",
        "# sanity check: total number of wins should equal number of rolls\n",
        "total_wins = Alice_count + Bob_count\n",
        "assert np.all(total_wins.T == np.arange(1, 12))\n",
        "print(\"(Sanity check passed)\")\n",
        "\n",
        "# determine number of games which meet our criterion of (A wins, B wins)=(5, 3)\n",
        "# this means Bob's win count at eight rolls must equal 3\n",
        "good_games = Bob_count[7] == 3\n",
        "print(\"Number of suitable games: {0}\".format(good_games.sum()))\n",
        "\n",
        "# truncate our results to consider only these games\n",
        "Alice_count = Alice_count[:, good_games]\n",
        "Bob_count = Bob_count[:, good_games]\n",
        "\n",
        "# determine which of these games Bob won.\n",
        "# to win, he must reach six wins after 11 rolls.\n",
        "bob_won = np.sum(Bob_count[10] == 6)\n",
        "print(\"Number of these games Bob won: {0}\".format(bob_won.sum()))\n",
        "\n",
        "# compute the probability\n",
        "mc_prob = bob_won.sum() * 1. / good_games.sum()\n",
        "print(\"Monte Carlo Probability of Bob winning: {0:.2f}\".format(mc_prob))"
      ],
      "execution_count": null,
      "outputs": [
        {
          "output_type": "stream",
          "text": [
            "(Sanity check passed)\n",
            "Number of suitable games: 11068\n",
            "Number of these games Bob won: 979\n",
            "Monte Carlo Probability of Bob winning: 0.09\n"
          ],
          "name": "stdout"
        }
      ]
    },
    {
      "cell_type": "markdown",
      "metadata": {
        "id": "XNnJJ1_0Niau"
      },
      "source": [
        "Podemos ver que el enfoque Bayesiano logra coincidir con este resultado, pero esto no quiere decir que el enfoque frecuentista sea incorrecto, de hecho se fue un poco injusto, ya que existen métodos frecuentistas que pueden dar un correcto resultado ya que manejan bien los parámetros molestosos (en este caso utilizamos un método nativo frecuentista)"
      ]
    },
    {
      "cell_type": "markdown",
      "metadata": {
        "id": "CxUEBxVySn5P"
      },
      "source": [
        "# Referencia:\n",
        "- http://jakevdp.github.io/blog/2014/03/11/frequentism-and-bayesianism-a-practical-intro/ "
      ]
    },
    {
      "cell_type": "code",
      "metadata": {
        "id": "XuHV40xcMiDu"
      },
      "source": [
        ""
      ],
      "execution_count": null,
      "outputs": []
    }
  ]
}