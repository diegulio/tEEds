{
 "cells": [
  {
   "cell_type": "code",
   "execution_count": 1,
   "id": "3deda888",
   "metadata": {},
   "outputs": [],
   "source": [
    "import numpy as np\n",
    "import matplotlib.pyplot as plt\n"
   ]
  },
  {
   "cell_type": "code",
   "execution_count": 2,
   "id": "223a081a",
   "metadata": {},
   "outputs": [],
   "source": [
    "P = 100  # Problación Máxima\n",
    "a = .005  # tasa de nacimiento\n",
    "b = .005  # tasa de muerte"
   ]
  },
  {
   "cell_type": "code",
   "execution_count": 3,
   "id": "cce95fda",
   "metadata": {},
   "outputs": [
    {
     "data": {
      "text/plain": [
       "array([25.,  0.,  0.,  0.,  0.,  0.,  0.,  0.,  0.,  0.,  0.,  0.,  0.,\n",
       "        0.,  0.,  0.,  0.,  0.,  0.,  0.])"
      ]
     },
     "execution_count": 3,
     "metadata": {},
     "output_type": "execute_result"
    }
   ],
   "source": [
    "T = 1000 # Tiempos\n",
    "x = np.zeros(T) # Estados\n",
    "x[0] = 25 # Población Inicial\n",
    "x[:20]"
   ]
  },
  {
   "cell_type": "code",
   "execution_count": 4,
   "id": "95a5931a",
   "metadata": {},
   "outputs": [],
   "source": [
    "for t in range(T - 1): # Proceso\n",
    "    if 0 < x[t] < P-1: # Solo seguirá generando mientras no se alcanze el máximo o quede gente en la población\n",
    "        # Hubo nacimiento?\n",
    "        birth = np.random.rand() <= a*x[t] # prob proporcional a la poblacion\n",
    "        # Hubo muerte?\n",
    "        death = np.random.rand() <= b*x[t] # prob proporcional a la poblacion\n",
    "        # Nueva población\n",
    "        x[t+1] = x[t] + 1*birth - 1*death\n",
    "    else:\n",
    "        x[t+1] = x[t]"
   ]
  },
  {
   "cell_type": "code",
   "execution_count": 5,
   "id": "ac59c304",
   "metadata": {},
   "outputs": [
    {
     "data": {
      "text/plain": [
       "array([25., 24., 23., 23., 23., 23., 23., 23., 23., 22., 22., 22., 22.,\n",
       "       23., 23., 23., 23., 23., 24., 24., 25., 25., 26., 26., 26.])"
      ]
     },
     "execution_count": 5,
     "metadata": {},
     "output_type": "execute_result"
    }
   ],
   "source": [
    "x[:25]"
   ]
  },
  {
   "cell_type": "code",
   "execution_count": 6,
   "id": "5a5219ce",
   "metadata": {
    "scrolled": true
   },
   "outputs": [
    {
     "data": {
      "image/png": "[encoded data removed]",
      "text/plain": [
       "<Figure size 432x216 with 1 Axes>"
      ]
     },
     "metadata": {
      "needs_background": "light"
     },
     "output_type": "display_data"
    }
   ],
   "source": [
    "plt.figure(figsize=(6,3));\n",
    "plt.plot(x);"
   ]
  },
  {
   "cell_type": "code",
   "execution_count": 12,
   "id": "0aca2dee",
   "metadata": {},
   "outputs": [
    {
     "data": {
      "text/plain": [
       "0.6609886672603762"
      ]
     },
     "execution_count": 12,
     "metadata": {},
     "output_type": "execute_result"
    }
   ],
   "source": []
  },
  {
   "cell_type": "code",
   "execution_count": null,
   "id": "fcc4d15d",
   "metadata": {},
   "outputs": [],
   "source": []
  }
 ],
 "metadata": {
  "kernelspec": {
   "display_name": "Python 3",
   "language": "python",
   "name": "python3"
  },
  "language_info": {
   "codemirror_mode": {
    "name": "ipython",
    "version": 3
   },
   "file_extension": ".py",
   "mimetype": "text/x-python",
   "name": "python",
   "nbconvert_exporter": "python",
   "pygments_lexer": "ipython3",
   "version": "3.8.8"
  }
 },
 "nbformat": 4,
 "nbformat_minor": 5
}
