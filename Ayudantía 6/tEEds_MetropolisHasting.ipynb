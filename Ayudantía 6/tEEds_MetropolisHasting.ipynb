{
 "cells": [
  {
   "cell_type": "code",
   "execution_count": null,
   "metadata": {
    "id": "doMcAwDePqeU"
   },
   "outputs": [],
   "source": [
    "import numpy as np\n",
    "from math import factorial\n",
    "import random\n",
    "import matplotlib.pyplot as plt"
   ]
  },
  {
   "cell_type": "markdown",
   "metadata": {
    "id": "EFEdIYPXdwpB"
   },
   "source": [
    "# Parte A (Matriz de Transiciones)"
   ]
  },
  {
   "cell_type": "code",
   "execution_count": null,
   "metadata": {
    "id": "J4lqAxoVbzF8"
   },
   "outputs": [],
   "source": [
    "def dist_est(n, s = 2, k = 4, lamb = 10, mu = 4, C = 0.065):\n",
    "  # Calculo p_0\n",
    "  p_0 = lamb/(s*mu)\n",
    "\n",
    "  if n < s:\n",
    "    return (lamb/mu)**n*C/factorial(n)\n",
    "  else:\n",
    "    return (lamb/mu)**s*C*p_0**(n-s)/factorial(s)\n"
   ]
  },
  {
   "cell_type": "markdown",
   "metadata": {
    "id": "ZhgpubqsUZYp"
   },
   "source": [
    "Matriz de transiciones de candidatos Q"
   ]
  },
  {
   "cell_type": "code",
   "execution_count": null,
   "metadata": {
    "colab": {
     "base_uri": "https://localhost:8080/"
    },
    "id": "wNwe5EL9QAhM",
    "outputId": "21b8a7eb-af04-4a2a-ad3c-62b56ec81c4b"
   },
   "outputs": [
    {
     "data": {
      "text/plain": [
       "array([[0.3, 0.6, 0.1, 0. , 0. ],\n",
       "       [0.1, 0.5, 0.4, 0. , 0. ],\n",
       "       [0.1, 0.1, 0.6, 0.2, 0. ],\n",
       "       [0. , 0.1, 0.2, 0.1, 0.6],\n",
       "       [0. , 0. , 0.1, 0.6, 0.3]])"
      ]
     },
     "execution_count": 4,
     "metadata": {
      "tags": []
     },
     "output_type": "execute_result"
    }
   ],
   "source": [
    "Q = np.array([\n",
    "              [0.3, 0.6, 0.1, 0, 0],\n",
    "              [0.1, 0.5, 0.4, 0, 0],\n",
    "              [0.1, 0.1, 0.6, 0.2, 0],\n",
    "              [0, 0.1, 0.2, 0.1, 0.6],\n",
    "              [0, 0, 0.1, 0.6, 0.3]\n",
    "              ])\n",
    "Q"
   ]
  },
  {
   "cell_type": "markdown",
   "metadata": {
    "id": "IAAHT1WnUfLV"
   },
   "source": [
    "Distribución $b$ \\\\\n",
    "$b = C*\\pi$\n",
    "\n",
    "Normalmente se quiere encontrar $\\pi$ sin conocer $C$ (Constante de renormalización)"
   ]
  },
  {
   "cell_type": "code",
   "execution_count": null,
   "metadata": {
    "colab": {
     "base_uri": "https://localhost:8080/"
    },
    "id": "42mwAGzuQfkK",
    "outputId": "7ff25be4-af2c-4a54-9f09-68306a4b6682"
   },
   "outputs": [
    {
     "data": {
      "text/plain": [
       "array([1.   , 2.5  , 3.125, 3.9  , 4.88 ])"
      ]
     },
     "execution_count": 5,
     "metadata": {
      "tags": []
     },
     "output_type": "execute_result"
    }
   ],
   "source": [
    "b = np.array([1, 2.5, 3.125, 3.9, 4.88])\n",
    "b"
   ]
  },
  {
   "cell_type": "markdown",
   "metadata": {
    "id": "HS5TRe1xVB0O"
   },
   "source": [
    "Concatamos b en cada columna para obtener $B$, en donde $B_i = \\vec{b}$"
   ]
  },
  {
   "cell_type": "code",
   "execution_count": null,
   "metadata": {
    "colab": {
     "base_uri": "https://localhost:8080/"
    },
    "id": "F56Fg-5xQuyW",
    "outputId": "54f33b18-aa84-44aa-cebd-22e596207c8d"
   },
   "outputs": [
    {
     "data": {
      "text/plain": [
       "array([[1.   , 1.   , 1.   , 1.   , 1.   ],\n",
       "       [2.5  , 2.5  , 2.5  , 2.5  , 2.5  ],\n",
       "       [3.125, 3.125, 3.125, 3.125, 3.125],\n",
       "       [3.9  , 3.9  , 3.9  , 3.9  , 3.9  ],\n",
       "       [4.88 , 4.88 , 4.88 , 4.88 , 4.88 ]])"
      ]
     },
     "execution_count": 9,
     "metadata": {
      "tags": []
     },
     "output_type": "execute_result"
    }
   ],
   "source": [
    "B = np.c_[b,b,b,b,b]\n",
    "B"
   ]
  },
  {
   "cell_type": "markdown",
   "metadata": {
    "id": "BfYX-rNuVYpN"
   },
   "source": [
    "Requerimos calcular \\\\\n",
    "$P_{i,j} = Q_{i,j}*min(1,\\frac{b_jQ_{j,i}}{b_iQ{i,j}})$"
   ]
  },
  {
   "cell_type": "markdown",
   "metadata": {
    "id": "pTsF1D9IVuvA"
   },
   "source": [
    "Calculemos primero el numerador \\\\\n",
    "$N = b_jQ_{j,i}$ = $B^t*Q^t$  \n",
    "***Nota***: Acá '*' es multiplicación elemento a elemento\n",
    "\n",
    "\n",
    "\n",
    "\n",
    "\n",
    "\n"
   ]
  },
  {
   "cell_type": "code",
   "execution_count": null,
   "metadata": {
    "colab": {
     "base_uri": "https://localhost:8080/"
    },
    "id": "v1dJsuWwSrZk",
    "outputId": "fbc74752-f1e7-4d5c-9b22-ec7805b0a0b8"
   },
   "outputs": [
    {
     "data": {
      "text/plain": [
       "array([[0.3   , 0.25  , 0.3125, 0.    , 0.    ],\n",
       "       [0.6   , 1.25  , 0.3125, 0.39  , 0.    ],\n",
       "       [0.1   , 1.    , 1.875 , 0.78  , 0.488 ],\n",
       "       [0.    , 0.    , 0.625 , 0.39  , 2.928 ],\n",
       "       [0.    , 0.    , 0.    , 2.34  , 1.464 ]])"
      ]
     },
     "execution_count": 15,
     "metadata": {
      "tags": []
     },
     "output_type": "execute_result"
    }
   ],
   "source": [
    "N = B.T*Q.T\n",
    "N"
   ]
  },
  {
   "cell_type": "code",
   "execution_count": null,
   "metadata": {
    "colab": {
     "base_uri": "https://localhost:8080/"
    },
    "id": "_9Q_NJ31WtMX",
    "outputId": "7aa00838-4fe4-4827-fff8-16b2dc792eed"
   },
   "outputs": [
    {
     "data": {
      "text/plain": [
       "array([[0.3   , 0.6   , 0.1   , 0.    , 0.    ],\n",
       "       [0.25  , 1.25  , 1.    , 0.    , 0.    ],\n",
       "       [0.3125, 0.3125, 1.875 , 0.625 , 0.    ],\n",
       "       [0.    , 0.39  , 0.78  , 0.39  , 2.34  ],\n",
       "       [0.    , 0.    , 0.488 , 2.928 , 1.464 ]])"
      ]
     },
     "execution_count": 17,
     "metadata": {
      "tags": []
     },
     "output_type": "execute_result"
    }
   ],
   "source": [
    "# El denominador es parecido pero sin trasponer\n",
    "D = B*Q\n",
    "D"
   ]
  },
  {
   "cell_type": "markdown",
   "metadata": {
    "id": "N0Va9_IIXBA9"
   },
   "source": [
    "Calculamos $F = \\frac{b_jQ_{j,i}}{b_iQ{i,j}} = \\frac{N}{D}$"
   ]
  },
  {
   "cell_type": "code",
   "execution_count": null,
   "metadata": {
    "colab": {
     "base_uri": "https://localhost:8080/"
    },
    "id": "WRNdpsqfTRTc",
    "outputId": "a21130cd-e2ba-4dde-cbb6-7d4157e9901a"
   },
   "outputs": [
    {
     "name": "stderr",
     "output_type": "stream",
     "text": [
      "/usr/local/lib/python3.7/dist-packages/ipykernel_launcher.py:1: RuntimeWarning: divide by zero encountered in true_divide\n",
      "  \"\"\"Entry point for launching an IPython kernel.\n",
      "/usr/local/lib/python3.7/dist-packages/ipykernel_launcher.py:1: RuntimeWarning: invalid value encountered in true_divide\n",
      "  \"\"\"Entry point for launching an IPython kernel.\n"
     ]
    },
    {
     "data": {
      "text/plain": [
       "array([[1.        , 0.41666667, 3.125     ,        nan,        nan],\n",
       "       [2.4       , 1.        , 0.3125    ,        inf,        nan],\n",
       "       [0.32      , 3.2       , 1.        , 1.248     ,        inf],\n",
       "       [       nan, 0.        , 0.80128205, 1.        , 1.25128205],\n",
       "       [       nan,        nan, 0.        , 0.79918033, 1.        ]])"
      ]
     },
     "execution_count": 19,
     "metadata": {
      "tags": []
     },
     "output_type": "execute_result"
    }
   ],
   "source": [
    "F = N/D\n",
    "F"
   ]
  },
  {
   "cell_type": "markdown",
   "metadata": {
    "id": "rW1i6I8-XVTA"
   },
   "source": [
    "Calculamos A_{i,j} = $min(1,\\frac{b_jQ_{j,i}}{b_iQ{i,j}})$"
   ]
  },
  {
   "cell_type": "code",
   "execution_count": null,
   "metadata": {
    "colab": {
     "base_uri": "https://localhost:8080/"
    },
    "id": "DogLqsITT7zc",
    "outputId": "2445b3a4-2546-44b2-bf0b-7d06f0121d99"
   },
   "outputs": [
    {
     "data": {
      "text/plain": [
       "array([[1.        , 0.41666667, 1.        ,        nan,        nan],\n",
       "       [1.        , 1.        , 0.3125    , 1.        ,        nan],\n",
       "       [0.32      , 1.        , 1.        , 1.        , 1.        ],\n",
       "       [       nan, 0.        , 0.80128205, 1.        , 1.        ],\n",
       "       [       nan,        nan, 0.        , 0.79918033, 1.        ]])"
      ]
     },
     "execution_count": 24,
     "metadata": {
      "tags": []
     },
     "output_type": "execute_result"
    }
   ],
   "source": [
    "A = np.minimum(np.ones((5,5)), F)\n",
    "A"
   ]
  },
  {
   "cell_type": "code",
   "execution_count": null,
   "metadata": {
    "colab": {
     "base_uri": "https://localhost:8080/"
    },
    "id": "RfO1IGFqX6aF",
    "outputId": "681a6dff-dbf0-4f9c-a109-df84ea2400dd"
   },
   "outputs": [
    {
     "data": {
      "text/plain": [
       "array([[1.        , 0.41666667, 1.        , 0.        , 0.        ],\n",
       "       [1.        , 1.        , 0.3125    , 1.        , 0.        ],\n",
       "       [0.32      , 1.        , 1.        , 1.        , 1.        ],\n",
       "       [0.        , 0.        , 0.80128205, 1.        , 1.        ],\n",
       "       [0.        , 0.        , 0.        , 0.79918033, 1.        ]])"
      ]
     },
     "execution_count": 26,
     "metadata": {
      "tags": []
     },
     "output_type": "execute_result"
    }
   ],
   "source": [
    "# Los elementos NaN se rellenan con 0\n",
    "np.nan_to_num(A, copy = False)\n",
    "A"
   ]
  },
  {
   "cell_type": "markdown",
   "metadata": {
    "id": "cj5J0eT-Yf5t"
   },
   "source": [
    "Finalmente Calculamos $P$"
   ]
  },
  {
   "cell_type": "code",
   "execution_count": null,
   "metadata": {
    "colab": {
     "base_uri": "https://localhost:8080/"
    },
    "id": "RXkqMrEUYRgn",
    "outputId": "9e9cf330-4211-4de5-c2bf-c8d02c7b815c"
   },
   "outputs": [
    {
     "data": {
      "text/plain": [
       "array([[0.3       , 0.25      , 0.1       , 0.        , 0.        ],\n",
       "       [0.1       , 0.5       , 0.125     , 0.        , 0.        ],\n",
       "       [0.032     , 0.1       , 0.6       , 0.2       , 0.        ],\n",
       "       [0.        , 0.        , 0.16025641, 0.1       , 0.6       ],\n",
       "       [0.        , 0.        , 0.        , 0.4795082 , 0.3       ]])"
      ]
     },
     "execution_count": 27,
     "metadata": {
      "tags": []
     },
     "output_type": "execute_result"
    }
   ],
   "source": [
    "P = Q*A\n",
    "P"
   ]
  },
  {
   "cell_type": "markdown",
   "metadata": {
    "id": "hpm16EizYtgs"
   },
   "source": [
    "Recordemos que aun nos falta la diagonal en donde \\\\\n",
    "$P_{i,i} = 1 - \\sum_{j,i \\neq j}P_{i,j}$"
   ]
  },
  {
   "cell_type": "code",
   "execution_count": null,
   "metadata": {
    "colab": {
     "base_uri": "https://localhost:8080/"
    },
    "id": "1ReR8KR1YlQ-",
    "outputId": "f81e0fd8-d76c-49c2-b27a-0bb0e6045c14"
   },
   "outputs": [
    {
     "data": {
      "text/plain": [
       "array([[0.65      , 0.25      , 0.1       , 0.        , 0.        ],\n",
       "       [0.1       , 0.775     , 0.125     , 0.        , 0.        ],\n",
       "       [0.032     , 0.1       , 0.668     , 0.2       , 0.        ],\n",
       "       [0.        , 0.        , 0.16025641, 0.23974359, 0.6       ],\n",
       "       [0.        , 0.        , 0.        , 0.4795082 , 0.5204918 ]])"
      ]
     },
     "execution_count": 31,
     "metadata": {
      "tags": []
     },
     "output_type": "execute_result"
    }
   ],
   "source": [
    "# Primero para calcular la suma hare la diagonal = 0\n",
    "np.fill_diagonal(P,0)\n",
    "# Ahora calculo la suma de cada fila\n",
    "s = np.sum(P, axis = 1)\n",
    "# Finalmente cambio la diagonal por la resta\n",
    "d = 1 - s\n",
    "np.fill_diagonal(P,d)\n",
    "P"
   ]
  },
  {
   "cell_type": "markdown",
   "metadata": {
    "id": "sNqX8Kz5aoLo"
   },
   "source": [
    "Comprobar que p es la distribucion estacionaria de P"
   ]
  },
  {
   "cell_type": "code",
   "execution_count": null,
   "metadata": {
    "colab": {
     "base_uri": "https://localhost:8080/"
    },
    "id": "_nrUJRKyZ6sf",
    "outputId": "4375f156-1ebc-4fb8-a9b4-c9135ed3aa86"
   },
   "outputs": [
    {
     "data": {
      "text/plain": [
       "array([0.065, 0.162, 0.203, 0.253, 0.317])"
      ]
     },
     "execution_count": 32,
     "metadata": {
      "tags": []
     },
     "output_type": "execute_result"
    }
   ],
   "source": [
    "p = np.array([0.065, .162, .203, .253, .317])\n",
    "p"
   ]
  },
  {
   "cell_type": "markdown",
   "metadata": {
    "id": "PGnEeuVga8XL"
   },
   "source": [
    "Sólo debemos comprobar que : \\\\\n",
    "$p*P = p$"
   ]
  },
  {
   "cell_type": "code",
   "execution_count": null,
   "metadata": {
    "colab": {
     "base_uri": "https://localhost:8080/"
    },
    "id": "kYYhxTIia7hT",
    "outputId": "07848e09-f0c9-49b6-b469-edb476c8ce1d"
   },
   "outputs": [
    {
     "data": {
      "text/plain": [
       "array([0.064946  , 0.1621    , 0.20289887, 0.25325923, 0.3167959 ])"
      ]
     },
     "execution_count": 34,
     "metadata": {
      "tags": []
     },
     "output_type": "execute_result"
    }
   ],
   "source": [
    "np.dot(p,P)"
   ]
  },
  {
   "cell_type": "markdown",
   "metadata": {
    "id": "SUqJmEYmbR-a"
   },
   "source": [
    "Aceptando cierto nivel de tolarancia podemos confirmarlo\n",
    "\n"
   ]
  },
  {
   "cell_type": "markdown",
   "metadata": {
    "id": "gAT3_Usvduft"
   },
   "source": [
    "# Parte B  (Metropolis-Hasting)\n",
    "Metropolis-Hasting : Se utilizará el método Metropolis-Hasting para simular una distribución estacionaria dada, de la cual no se conoce la constante de normalización C"
   ]
  },
  {
   "cell_type": "markdown",
   "metadata": {
    "id": "_4Jd2COkcTIg"
   },
   "source": [
    "$p_{n}=\\left\\{\\begin{array}{lr}\\frac{(\\lambda / \\mu)^{n}}{n !} C_{0} & n=0, \\ldots, s-1 \\\\ \\frac{(\\lambda / \\mu)^{s}}{s !} \\rho_{0}^{n-s} C_{0} & n=s, \\ldots, K\\end{array}\\right.$ \\\\\n",
    "Esta es la distribución estacionaria de la cantidad de personas en el sistema. \n",
    "El sistema es una cola tipo $M/M/s/K$"
   ]
  },
  {
   "cell_type": "code",
   "execution_count": null,
   "metadata": {
    "id": "XKHjx0KVfNpq"
   },
   "outputs": [],
   "source": [
    "lamb = 12\n",
    "s = 11\n",
    "k = 38\n",
    "p_0 = 0.5\n",
    "k += 1 # Agregamos el hecho de que pueden haber 0 personas"
   ]
  },
  {
   "cell_type": "code",
   "execution_count": null,
   "metadata": {
    "id": "dZC8LThva5Zf"
   },
   "outputs": [],
   "source": [
    "# Ahora no necesitamos C\n",
    "def dist_est(n, s = 11, k = 38, lamb = 12, p_0 = 0.5): \n",
    "  \"\"\"\n",
    "  Función que computa b, tal que p = C*b\n",
    "\n",
    "  \"\"\"\n",
    "\n",
    "  # Calculo mu\n",
    "  mu = lamb/(s*p_0) \n",
    "  \n",
    "\n",
    "  if n < s:\n",
    "    return (lamb/mu)**n/factorial(n)\n",
    "  else:\n",
    "    return ((lamb/mu)**s)*p_0**(n-s)/factorial(s)"
   ]
  },
  {
   "cell_type": "code",
   "execution_count": null,
   "metadata": {
    "colab": {
     "base_uri": "https://localhost:8080/"
    },
    "id": "kODw6Inqh_U5",
    "outputId": "dce8ea77-d21a-4195-a2eb-cdb4435db9c5"
   },
   "outputs": [
    {
     "data": {
      "text/plain": [
       "array([1.00000000e+00, 5.50000000e+00, 1.51250000e+01, 2.77291667e+01,\n",
       "       3.81276042e+01, 4.19403646e+01, 3.84453342e+01, 3.02070483e+01,\n",
       "       2.07673457e+01, 1.26911557e+01, 6.98013564e+00, 3.49006782e+00,\n",
       "       1.74503391e+00, 8.72516955e-01, 4.36258478e-01, 2.18129239e-01,\n",
       "       1.09064619e-01, 5.45323097e-02, 2.72661548e-02, 1.36330774e-02,\n",
       "       6.81653871e-03, 3.40826936e-03, 1.70413468e-03, 8.52067339e-04,\n",
       "       4.26033669e-04, 2.13016835e-04, 1.06508417e-04, 5.32542087e-05,\n",
       "       2.66271043e-05, 1.33135522e-05, 6.65677609e-06, 3.32838804e-06,\n",
       "       1.66419402e-06, 8.32097011e-07, 4.16048505e-07, 2.08024253e-07,\n",
       "       1.04012126e-07, 5.20060632e-08, 2.60030316e-08])"
      ]
     },
     "execution_count": 64,
     "metadata": {
      "tags": []
     },
     "output_type": "execute_result"
    }
   ],
   "source": [
    "# Calculamos b\n",
    "\n",
    "b = np.zeros(k) \n",
    "for state in range(k):\n",
    "  b[state] = dist_est(state, s, k, lamb, p_0)\n",
    "b\n",
    "\n"
   ]
  },
  {
   "cell_type": "code",
   "execution_count": null,
   "metadata": {
    "colab": {
     "base_uri": "https://localhost:8080/"
    },
    "id": "u6NBDNE7eMng",
    "outputId": "b7fa1a10-fc01-4d78-9d00-1b56913f3520"
   },
   "outputs": [
    {
     "data": {
      "text/plain": [
       "(39, 39)"
      ]
     },
     "execution_count": 65,
     "metadata": {
      "tags": []
     },
     "output_type": "execute_result"
    }
   ],
   "source": [
    "# Matriz de transición de candidatos\n",
    "Q = np.random.rand(k,k)\n",
    "Q = Q/Q.sum(axis=1)[:,None]\n",
    "Q.shape\n"
   ]
  },
  {
   "cell_type": "code",
   "execution_count": null,
   "metadata": {
    "colab": {
     "base_uri": "https://localhost:8080/"
    },
    "id": "dAWZ1BXDhGS5",
    "outputId": "b1a1f8a3-154c-4735-d1e5-700d0896067a"
   },
   "outputs": [
    {
     "data": {
      "text/plain": [
       "array([[0.0239042 , 0.01790732, 0.00255619, ..., 0.01461393, 0.03862046,\n",
       "        0.0049556 ],\n",
       "       [0.04761565, 0.04898772, 0.02754936, ..., 0.03317672, 0.00538546,\n",
       "        0.01318683],\n",
       "       [0.04361554, 0.04645148, 0.0425189 , ..., 0.00429911, 0.02221568,\n",
       "        0.01512908],\n",
       "       ...,\n",
       "       [0.01452735, 0.04647533, 0.02422691, ..., 0.00321488, 0.02053358,\n",
       "        0.03025237],\n",
       "       [0.00240455, 0.03916706, 0.00927169, ..., 0.02622666, 0.03853695,\n",
       "        0.04253591],\n",
       "       [0.00925654, 0.02082246, 0.03905612, ..., 0.02791054, 0.03781302,\n",
       "        0.04257573]])"
      ]
     },
     "execution_count": 66,
     "metadata": {
      "tags": []
     },
     "output_type": "execute_result"
    }
   ],
   "source": [
    "Q"
   ]
  },
  {
   "cell_type": "markdown",
   "metadata": {
    "id": "AzU5-lkrR6f8"
   },
   "source": [
    "Desafio : Proponga Q como una matriz tridiagonal y compare los resultados.! Esto es más eficiente."
   ]
  },
  {
   "cell_type": "code",
   "execution_count": null,
   "metadata": {
    "colab": {
     "base_uri": "https://localhost:8080/"
    },
    "id": "2alA32SweNDf",
    "outputId": "f8f53790-15e0-4dd4-dedc-d60f197e8b40"
   },
   "outputs": [
    {
     "data": {
      "text/plain": [
       "[0,\n",
       " 1,\n",
       " 2,\n",
       " 3,\n",
       " 4,\n",
       " 5,\n",
       " 6,\n",
       " 7,\n",
       " 8,\n",
       " 9,\n",
       " 10,\n",
       " 11,\n",
       " 12,\n",
       " 13,\n",
       " 14,\n",
       " 15,\n",
       " 16,\n",
       " 17,\n",
       " 18,\n",
       " 19,\n",
       " 20,\n",
       " 21,\n",
       " 22,\n",
       " 23,\n",
       " 24,\n",
       " 25,\n",
       " 26,\n",
       " 27,\n",
       " 28,\n",
       " 29,\n",
       " 30,\n",
       " 31,\n",
       " 32,\n",
       " 33,\n",
       " 34,\n",
       " 35,\n",
       " 36,\n",
       " 37,\n",
       " 38]"
      ]
     },
     "execution_count": 67,
     "metadata": {
      "tags": []
     },
     "output_type": "execute_result"
    }
   ],
   "source": [
    "# Estados posibles\n",
    "estados = [i for i in range(k)]\n",
    "estados"
   ]
  },
  {
   "cell_type": "code",
   "execution_count": null,
   "metadata": {
    "id": "uWlKB5oQpGRR"
   },
   "outputs": [],
   "source": [
    "def mh(b, Q, estados,  iter = 5000 ):\n",
    "  \"\"\"\n",
    "  Función que realiza el procedimiento Metropolis-Hasting\n",
    "  \"\"\"\n",
    "  x = random.choice(estados)\n",
    "  t = 0\n",
    "  \n",
    "  L = np.zeros(iter)\n",
    "  L[0] = x\n",
    "\n",
    "  while t< iter:\n",
    "    Q_probs = Q[x,:] # Las probabilidades para elegir el siguiente estado\n",
    "    next_candidate = random.choices(estados, weights=Q_probs)[0]\n",
    "    A = b[next_candidate]*Q[next_candidate,x]/(b[x]*Q[x, next_candidate])\n",
    "    U = random.uniform(0,1)\n",
    "    if U < A :\n",
    "      x = next_candidate\n",
    "    else : \n",
    "      pass # x = x\n",
    "    L[t] = x\n",
    "    t += 1\n",
    "\n",
    "  return L\n",
    "  \n",
    " \n",
    "\n",
    "\n",
    "  \n"
   ]
  },
  {
   "cell_type": "code",
   "execution_count": null,
   "metadata": {
    "id": "LtQFgk8_sDSd"
   },
   "outputs": [],
   "source": [
    "# Metropolis-Hasting\n",
    "iter = 5000\n",
    "L = mh(b, Q, estados, iter)"
   ]
  },
  {
   "cell_type": "code",
   "execution_count": null,
   "metadata": {
    "colab": {
     "base_uri": "https://localhost:8080/",
     "height": 609
    },
    "id": "dvewWngAsAD3",
    "outputId": "4c085d2e-ac03-434c-e286-21425ae243f8"
   },
   "outputs": [
    {
     "data": {
      "text/plain": [
       "[<matplotlib.lines.Line2D at 0x7efc21b6d2d0>]"
      ]
     },
     "execution_count": 70,
     "metadata": {
      "tags": []
     },
     "output_type": "execute_result"
    },
    {
     "data": {
      "image/png": "[encoded data removed]",
      "text/plain": [
       "<Figure size 720x720 with 1 Axes>"
      ]
     },
     "metadata": {
      "needs_background": "light",
      "tags": []
     },
     "output_type": "display_data"
    }
   ],
   "source": [
    " # Calculamos C y la distr estacionaria p\n",
    "C = b.sum()\n",
    "p = b/C\n",
    "E_l = np.sum(range(k)*p)\n",
    "\n",
    "L_bar = np.cumsum(L)/range(1,len(L) + 1) # Calculamos L promedio\n",
    "\n",
    "plt.rcParams[\"figure.figsize\"] = (10,10)\n",
    "plt.plot(range(iter), L_bar)\n",
    "plt.plot(range(iter),np.full(iter,E_l), 'r')"
   ]
  },
  {
   "cell_type": "code",
   "execution_count": null,
   "metadata": {
    "colab": {
     "base_uri": "https://localhost:8080/"
    },
    "id": "JPw51ksasC2S",
    "outputId": "0ffae5dc-f304-475b-ded9-573596d4df72"
   },
   "outputs": [
    {
     "data": {
      "text/plain": [
       "5.5176"
      ]
     },
     "execution_count": 71,
     "metadata": {
      "tags": []
     },
     "output_type": "execute_result"
    }
   ],
   "source": [
    "np.mean(L)"
   ]
  },
  {
   "cell_type": "code",
   "execution_count": null,
   "metadata": {
    "colab": {
     "base_uri": "https://localhost:8080/"
    },
    "id": "KmbwUBFLtPQp",
    "outputId": "2cdb316f-036f-4208-cabf-7eba72836107"
   },
   "outputs": [
    {
     "data": {
      "text/plain": [
       "array([15.        , 13.        , 12.33333333, ...,  5.51580632,\n",
       "        5.51670334,  5.5176    ])"
      ]
     },
     "execution_count": 72,
     "metadata": {
      "tags": []
     },
     "output_type": "execute_result"
    }
   ],
   "source": [
    "L_bar"
   ]
  },
  {
   "cell_type": "code",
   "execution_count": null,
   "metadata": {
    "colab": {
     "base_uri": "https://localhost:8080/"
    },
    "id": "EdUmcNeatYqA",
    "outputId": "5dc6d36d-3c9a-4447-9760-c2c921390f1f"
   },
   "outputs": [
    {
     "data": {
      "text/plain": [
       "5.528433097810965"
      ]
     },
     "execution_count": 73,
     "metadata": {
      "tags": []
     },
     "output_type": "execute_result"
    }
   ],
   "source": [
    "E_l"
   ]
  },
  {
   "cell_type": "markdown",
   "metadata": {
    "id": "EY5jQ3bxh2NI"
   },
   "source": [
    "Estime la probabilidad que no haya nadie utilizando el estacionamiento (Usando la simulación) Para esto lo calculamos como : \\\\\n",
    "$P(\\text{No haya nadie en el estacionamiento}) = \\frac{\\text{número de veces que hubieron a lo más 20 personas}}{\\text{Número total de simulaciones}}$"
   ]
  },
  {
   "cell_type": "code",
   "execution_count": null,
   "metadata": {
    "colab": {
     "base_uri": "https://localhost:8080/"
    },
    "id": "qJRVXKaUcOOZ",
    "outputId": "ea2f0620-e121-4977-a63c-ec8618218bee"
   },
   "outputs": [
    {
     "data": {
      "text/plain": [
       "1.0"
      ]
     },
     "execution_count": 74,
     "metadata": {
      "tags": []
     },
     "output_type": "execute_result"
    }
   ],
   "source": [
    "np.count_nonzero(L <= 20)/5000"
   ]
  },
  {
   "cell_type": "code",
   "execution_count": null,
   "metadata": {
    "id": "rBj6y8FAjF50"
   },
   "outputs": [],
   "source": []
  }
 ],
 "metadata": {
  "colab": {
   "collapsed_sections": [],
   "name": "tEEds_MH.ipynb",
   "provenance": []
  },
  "kernelspec": {
   "display_name": "Python 3",
   "language": "python",
   "name": "python3"
  },
  "language_info": {
   "codemirror_mode": {
    "name": "ipython",
    "version": 3
   },
   "file_extension": ".py",
   "mimetype": "text/x-python",
   "name": "python",
   "nbconvert_exporter": "python",
   "pygments_lexer": "ipython3",
   "version": "3.8.8"
  }
 },
 "nbformat": 4,
 "nbformat_minor": 1
}
